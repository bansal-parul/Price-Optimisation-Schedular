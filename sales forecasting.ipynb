{
 "cells": [
  {
   "cell_type": "code",
   "execution_count": 1,
   "metadata": {},
   "outputs": [
    {
     "name": "stdout",
     "output_type": "stream",
     "text": [
      "Requirement already satisfied: torchmetrics==0.5.0 in /Users/parul/opt/anaconda3/lib/python3.8/site-packages (0.5.0)\n",
      "Requirement already satisfied: packaging in /Users/parul/opt/anaconda3/lib/python3.8/site-packages (from torchmetrics==0.5.0) (20.4)\n",
      "Requirement already satisfied: numpy>=1.17.2 in /Users/parul/opt/anaconda3/lib/python3.8/site-packages (from torchmetrics==0.5.0) (1.19.2)\n",
      "Requirement already satisfied: torch>=1.3.1 in /Users/parul/opt/anaconda3/lib/python3.8/site-packages (from torchmetrics==0.5.0) (1.9.1)\n",
      "Requirement already satisfied: six in /Users/parul/opt/anaconda3/lib/python3.8/site-packages (from packaging->torchmetrics==0.5.0) (1.15.0)\n",
      "Requirement already satisfied: pyparsing>=2.0.2 in /Users/parul/opt/anaconda3/lib/python3.8/site-packages (from packaging->torchmetrics==0.5.0) (2.4.7)\n",
      "Requirement already satisfied: typing_extensions in /Users/parul/opt/anaconda3/lib/python3.8/site-packages (from torch>=1.3.1->torchmetrics==0.5.0) (3.7.4.3)\n",
      "Note: you may need to restart the kernel to use updated packages.\n"
     ]
    }
   ],
   "source": [
    "pip install torchmetrics==0.5.0"
   ]
  },
  {
   "cell_type": "code",
   "execution_count": 2,
   "metadata": {},
   "outputs": [],
   "source": [
    "import warnings\n",
    "warnings.filterwarnings('ignore')\n",
    "\n",
    "import pandas as pd\n",
    "import numpy as np\n",
    "import os\n",
    "import matplotlib.pyplot as plt\n",
    "import seaborn as sns\n",
    "import datetime as dt\n",
    "import pytorch_lightning as pl\n",
    "from pytorch_lightning.callbacks import EarlyStopping, LearningRateMonitor\n",
    "from pytorch_lightning.loggers import TensorBoardLogger\n",
    "import torch\n",
    "\n",
    "from pytorch_forecasting import GroupNormalizer, TemporalFusionTransformer, TimeSeriesDataSet\n",
    "from pytorch_forecasting.metrics import MAE, RMSE, SMAPE, PoissonLoss, QuantileLoss\n",
    "from pytorch_forecasting.models.temporal_fusion_transformer.tuning import optimize_hyperparameters\n",
    "from pytorch_forecasting.utils import profile\n",
    "from statsmodels.tsa.seasonal import seasonal_decompose\n",
    "from dateutil.parser import parse"
   ]
  },
  {
   "cell_type": "code",
   "execution_count": 3,
   "metadata": {},
   "outputs": [],
   "source": [
    "pd.set_option('display.max_rows', None)\n",
    "pd.set_option('display.max_columns', None)\n",
    "pd.set_option('display.width', None)"
   ]
  },
  {
   "cell_type": "code",
   "execution_count": 4,
   "metadata": {},
   "outputs": [
    {
     "name": "stdout",
     "output_type": "stream",
     "text": [
      "<class 'pandas.core.frame.DataFrame'>\n",
      "RangeIndex: 70829 entries, 0 to 70828\n",
      "Data columns (total 7 columns):\n",
      " #   Column          Non-Null Count  Dtype  \n",
      "---  ------          --------------  -----  \n",
      " 0   SCRUB_ITEM      70829 non-null  int64  \n",
      " 1   TIME_DIM_KEY    70829 non-null  int64  \n",
      " 2   SCRUB_TRANS_NO  70829 non-null  int64  \n",
      " 3   TRANS_SEQ_NO    70829 non-null  int64  \n",
      " 4   UNIT_QTY        70829 non-null  float64\n",
      " 5   UNIT_PRICE      70829 non-null  float64\n",
      " 6   UNIT_COST       70829 non-null  float64\n",
      "dtypes: float64(3), int64(4)\n",
      "memory usage: 3.8 MB\n",
      "None\n"
     ]
    },
    {
     "data": {
      "text/html": [
       "<div>\n",
       "<style scoped>\n",
       "    .dataframe tbody tr th:only-of-type {\n",
       "        vertical-align: middle;\n",
       "    }\n",
       "\n",
       "    .dataframe tbody tr th {\n",
       "        vertical-align: top;\n",
       "    }\n",
       "\n",
       "    .dataframe thead th {\n",
       "        text-align: right;\n",
       "    }\n",
       "</style>\n",
       "<table border=\"1\" class=\"dataframe\">\n",
       "  <thead>\n",
       "    <tr style=\"text-align: right;\">\n",
       "      <th></th>\n",
       "      <th>SCRUB_ITEM</th>\n",
       "      <th>TIME_DIM_KEY</th>\n",
       "      <th>SCRUB_TRANS_NO</th>\n",
       "      <th>TRANS_SEQ_NO</th>\n",
       "      <th>UNIT_QTY</th>\n",
       "      <th>UNIT_PRICE</th>\n",
       "      <th>UNIT_COST</th>\n",
       "    </tr>\n",
       "  </thead>\n",
       "  <tbody>\n",
       "    <tr>\n",
       "      <th>0</th>\n",
       "      <td>1</td>\n",
       "      <td>20180402</td>\n",
       "      <td>1296</td>\n",
       "      <td>2</td>\n",
       "      <td>2.0</td>\n",
       "      <td>322.99</td>\n",
       "      <td>132.97</td>\n",
       "    </tr>\n",
       "    <tr>\n",
       "      <th>1</th>\n",
       "      <td>1</td>\n",
       "      <td>20181206</td>\n",
       "      <td>6878</td>\n",
       "      <td>1</td>\n",
       "      <td>1.0</td>\n",
       "      <td>322.99</td>\n",
       "      <td>132.97</td>\n",
       "    </tr>\n",
       "    <tr>\n",
       "      <th>2</th>\n",
       "      <td>1</td>\n",
       "      <td>20181210</td>\n",
       "      <td>7010</td>\n",
       "      <td>2</td>\n",
       "      <td>2.0</td>\n",
       "      <td>322.99</td>\n",
       "      <td>132.97</td>\n",
       "    </tr>\n",
       "    <tr>\n",
       "      <th>3</th>\n",
       "      <td>1</td>\n",
       "      <td>20190214</td>\n",
       "      <td>8380</td>\n",
       "      <td>2</td>\n",
       "      <td>1.0</td>\n",
       "      <td>322.99</td>\n",
       "      <td>132.97</td>\n",
       "    </tr>\n",
       "    <tr>\n",
       "      <th>4</th>\n",
       "      <td>1</td>\n",
       "      <td>20190502</td>\n",
       "      <td>10639</td>\n",
       "      <td>1</td>\n",
       "      <td>2.0</td>\n",
       "      <td>219.99</td>\n",
       "      <td>132.97</td>\n",
       "    </tr>\n",
       "  </tbody>\n",
       "</table>\n",
       "</div>"
      ],
      "text/plain": [
       "   SCRUB_ITEM  TIME_DIM_KEY  SCRUB_TRANS_NO  TRANS_SEQ_NO  UNIT_QTY  \\\n",
       "0           1      20180402            1296             2       2.0   \n",
       "1           1      20181206            6878             1       1.0   \n",
       "2           1      20181210            7010             2       2.0   \n",
       "3           1      20190214            8380             2       1.0   \n",
       "4           1      20190502           10639             1       2.0   \n",
       "\n",
       "   UNIT_PRICE  UNIT_COST  \n",
       "0      322.99     132.97  \n",
       "1      322.99     132.97  \n",
       "2      322.99     132.97  \n",
       "3      322.99     132.97  \n",
       "4      219.99     132.97  "
      ]
     },
     "execution_count": 4,
     "metadata": {},
     "output_type": "execute_result"
    }
   ],
   "source": [
    "df_3 = pd.read_csv('TSC_Sales_Data.csv')\n",
    "print(df_3.info())\n",
    "df_3.head()"
   ]
  },
  {
   "cell_type": "markdown",
   "metadata": {},
   "source": [
    "### Extract Week, Month, Year from Time_Dim_Key"
   ]
  },
  {
   "cell_type": "code",
   "execution_count": 5,
   "metadata": {},
   "outputs": [
    {
     "name": "stderr",
     "output_type": "stream",
     "text": [
      "<ipython-input-5-6385570dbf68>:6: FutureWarning: Series.dt.weekofyear and Series.dt.week have been deprecated.  Please use Series.dt.isocalendar().week instead.\n",
      "  df_3['weekday'] = df_3['date'].dt.week\n"
     ]
    },
    {
     "data": {
      "text/html": [
       "<div>\n",
       "<style scoped>\n",
       "    .dataframe tbody tr th:only-of-type {\n",
       "        vertical-align: middle;\n",
       "    }\n",
       "\n",
       "    .dataframe tbody tr th {\n",
       "        vertical-align: top;\n",
       "    }\n",
       "\n",
       "    .dataframe thead th {\n",
       "        text-align: right;\n",
       "    }\n",
       "</style>\n",
       "<table border=\"1\" class=\"dataframe\">\n",
       "  <thead>\n",
       "    <tr style=\"text-align: right;\">\n",
       "      <th></th>\n",
       "      <th>SCRUB_ITEM</th>\n",
       "      <th>TIME_DIM_KEY</th>\n",
       "      <th>SCRUB_TRANS_NO</th>\n",
       "      <th>TRANS_SEQ_NO</th>\n",
       "      <th>UNIT_QTY</th>\n",
       "      <th>UNIT_PRICE</th>\n",
       "      <th>UNIT_COST</th>\n",
       "      <th>year</th>\n",
       "      <th>month</th>\n",
       "      <th>day</th>\n",
       "      <th>date</th>\n",
       "      <th>weekday</th>\n",
       "    </tr>\n",
       "  </thead>\n",
       "  <tbody>\n",
       "    <tr>\n",
       "      <th>0</th>\n",
       "      <td>1</td>\n",
       "      <td>20180402</td>\n",
       "      <td>1296</td>\n",
       "      <td>2</td>\n",
       "      <td>2.0</td>\n",
       "      <td>322.99</td>\n",
       "      <td>132.97</td>\n",
       "      <td>2018</td>\n",
       "      <td>4</td>\n",
       "      <td>2</td>\n",
       "      <td>2018-04-02</td>\n",
       "      <td>14</td>\n",
       "    </tr>\n",
       "    <tr>\n",
       "      <th>1</th>\n",
       "      <td>1</td>\n",
       "      <td>20181206</td>\n",
       "      <td>6878</td>\n",
       "      <td>1</td>\n",
       "      <td>1.0</td>\n",
       "      <td>322.99</td>\n",
       "      <td>132.97</td>\n",
       "      <td>2018</td>\n",
       "      <td>12</td>\n",
       "      <td>6</td>\n",
       "      <td>2018-12-06</td>\n",
       "      <td>49</td>\n",
       "    </tr>\n",
       "    <tr>\n",
       "      <th>2</th>\n",
       "      <td>1</td>\n",
       "      <td>20181210</td>\n",
       "      <td>7010</td>\n",
       "      <td>2</td>\n",
       "      <td>2.0</td>\n",
       "      <td>322.99</td>\n",
       "      <td>132.97</td>\n",
       "      <td>2018</td>\n",
       "      <td>12</td>\n",
       "      <td>10</td>\n",
       "      <td>2018-12-10</td>\n",
       "      <td>50</td>\n",
       "    </tr>\n",
       "    <tr>\n",
       "      <th>3</th>\n",
       "      <td>1</td>\n",
       "      <td>20190214</td>\n",
       "      <td>8380</td>\n",
       "      <td>2</td>\n",
       "      <td>1.0</td>\n",
       "      <td>322.99</td>\n",
       "      <td>132.97</td>\n",
       "      <td>2019</td>\n",
       "      <td>2</td>\n",
       "      <td>14</td>\n",
       "      <td>2019-02-14</td>\n",
       "      <td>7</td>\n",
       "    </tr>\n",
       "    <tr>\n",
       "      <th>4</th>\n",
       "      <td>1</td>\n",
       "      <td>20190502</td>\n",
       "      <td>10639</td>\n",
       "      <td>1</td>\n",
       "      <td>2.0</td>\n",
       "      <td>219.99</td>\n",
       "      <td>132.97</td>\n",
       "      <td>2019</td>\n",
       "      <td>5</td>\n",
       "      <td>2</td>\n",
       "      <td>2019-05-02</td>\n",
       "      <td>18</td>\n",
       "    </tr>\n",
       "  </tbody>\n",
       "</table>\n",
       "</div>"
      ],
      "text/plain": [
       "   SCRUB_ITEM  TIME_DIM_KEY  SCRUB_TRANS_NO  TRANS_SEQ_NO  UNIT_QTY  \\\n",
       "0           1      20180402            1296             2       2.0   \n",
       "1           1      20181206            6878             1       1.0   \n",
       "2           1      20181210            7010             2       2.0   \n",
       "3           1      20190214            8380             2       1.0   \n",
       "4           1      20190502           10639             1       2.0   \n",
       "\n",
       "   UNIT_PRICE  UNIT_COST  year  month  day       date  weekday  \n",
       "0      322.99     132.97  2018      4    2 2018-04-02       14  \n",
       "1      322.99     132.97  2018     12    6 2018-12-06       49  \n",
       "2      322.99     132.97  2018     12   10 2018-12-10       50  \n",
       "3      322.99     132.97  2019      2   14 2019-02-14        7  \n",
       "4      219.99     132.97  2019      5    2 2019-05-02       18  "
      ]
     },
     "execution_count": 5,
     "metadata": {},
     "output_type": "execute_result"
    }
   ],
   "source": [
    "df_3['year'] = df_3['TIME_DIM_KEY']//10000\n",
    "df_3['month'] = (df_3['TIME_DIM_KEY']//100)%100\n",
    "df_3['day'] = df_3['TIME_DIM_KEY']%100\n",
    "df_3['date'] = df_3['year'].astype(str) +'-'+df_3['month'].astype(str) +'-'+ df_3['day'].astype(str)\n",
    "df_3['date'] = pd.to_datetime(df_3['date'])\n",
    "df_3['weekday'] = df_3['date'].dt.week\n",
    "df_3.head()"
   ]
  },
  {
   "cell_type": "markdown",
   "metadata": {},
   "source": [
    "### Add time_ID as Year_Week"
   ]
  },
  {
   "cell_type": "code",
   "execution_count": 6,
   "metadata": {},
   "outputs": [
    {
     "data": {
      "text/html": [
       "<div>\n",
       "<style scoped>\n",
       "    .dataframe tbody tr th:only-of-type {\n",
       "        vertical-align: middle;\n",
       "    }\n",
       "\n",
       "    .dataframe tbody tr th {\n",
       "        vertical-align: top;\n",
       "    }\n",
       "\n",
       "    .dataframe thead th {\n",
       "        text-align: right;\n",
       "    }\n",
       "</style>\n",
       "<table border=\"1\" class=\"dataframe\">\n",
       "  <thead>\n",
       "    <tr style=\"text-align: right;\">\n",
       "      <th></th>\n",
       "      <th>year</th>\n",
       "      <th>weekday</th>\n",
       "      <th>date</th>\n",
       "      <th>time_id</th>\n",
       "    </tr>\n",
       "  </thead>\n",
       "  <tbody>\n",
       "    <tr>\n",
       "      <th>0</th>\n",
       "      <td>2018</td>\n",
       "      <td>1</td>\n",
       "      <td>2018-01-01</td>\n",
       "      <td>201801</td>\n",
       "    </tr>\n",
       "    <tr>\n",
       "      <th>1</th>\n",
       "      <td>2018</td>\n",
       "      <td>2</td>\n",
       "      <td>2018-01-08</td>\n",
       "      <td>201802</td>\n",
       "    </tr>\n",
       "    <tr>\n",
       "      <th>2</th>\n",
       "      <td>2018</td>\n",
       "      <td>3</td>\n",
       "      <td>2018-01-15</td>\n",
       "      <td>201803</td>\n",
       "    </tr>\n",
       "    <tr>\n",
       "      <th>3</th>\n",
       "      <td>2018</td>\n",
       "      <td>4</td>\n",
       "      <td>2018-01-22</td>\n",
       "      <td>201804</td>\n",
       "    </tr>\n",
       "    <tr>\n",
       "      <th>4</th>\n",
       "      <td>2018</td>\n",
       "      <td>5</td>\n",
       "      <td>2018-01-29</td>\n",
       "      <td>201805</td>\n",
       "    </tr>\n",
       "  </tbody>\n",
       "</table>\n",
       "</div>"
      ],
      "text/plain": [
       "   year  weekday       date  time_id\n",
       "0  2018        1 2018-01-01   201801\n",
       "1  2018        2 2018-01-08   201802\n",
       "2  2018        3 2018-01-15   201803\n",
       "3  2018        4 2018-01-22   201804\n",
       "4  2018        5 2018-01-29   201805"
      ]
     },
     "execution_count": 6,
     "metadata": {},
     "output_type": "execute_result"
    }
   ],
   "source": [
    "df_time = df_3.groupby(['year','weekday']).date.min().reset_index()\n",
    "df_time = df_time[:-1]\n",
    "df_time['time_id'] = 100*df_time['year'] + df_time['weekday']\n",
    "df_time.head()"
   ]
  },
  {
   "cell_type": "code",
   "execution_count": 7,
   "metadata": {},
   "outputs": [
    {
     "data": {
      "text/html": [
       "<div>\n",
       "<style scoped>\n",
       "    .dataframe tbody tr th:only-of-type {\n",
       "        vertical-align: middle;\n",
       "    }\n",
       "\n",
       "    .dataframe tbody tr th {\n",
       "        vertical-align: top;\n",
       "    }\n",
       "\n",
       "    .dataframe thead th {\n",
       "        text-align: right;\n",
       "    }\n",
       "</style>\n",
       "<table border=\"1\" class=\"dataframe\">\n",
       "  <thead>\n",
       "    <tr style=\"text-align: right;\">\n",
       "      <th></th>\n",
       "      <th>SCRUB_ITEM</th>\n",
       "      <th>TIME_DIM_KEY</th>\n",
       "      <th>SCRUB_TRANS_NO</th>\n",
       "      <th>TRANS_SEQ_NO</th>\n",
       "      <th>UNIT_QTY</th>\n",
       "      <th>UNIT_PRICE</th>\n",
       "      <th>UNIT_COST</th>\n",
       "      <th>year</th>\n",
       "      <th>month</th>\n",
       "      <th>day</th>\n",
       "      <th>date</th>\n",
       "      <th>weekday</th>\n",
       "      <th>time_id</th>\n",
       "    </tr>\n",
       "  </thead>\n",
       "  <tbody>\n",
       "    <tr>\n",
       "      <th>0</th>\n",
       "      <td>1</td>\n",
       "      <td>20180402</td>\n",
       "      <td>1296</td>\n",
       "      <td>2</td>\n",
       "      <td>2.0</td>\n",
       "      <td>322.99</td>\n",
       "      <td>132.97</td>\n",
       "      <td>2018</td>\n",
       "      <td>4</td>\n",
       "      <td>2</td>\n",
       "      <td>2018-04-02</td>\n",
       "      <td>14</td>\n",
       "      <td>201814</td>\n",
       "    </tr>\n",
       "    <tr>\n",
       "      <th>1</th>\n",
       "      <td>1</td>\n",
       "      <td>20181206</td>\n",
       "      <td>6878</td>\n",
       "      <td>1</td>\n",
       "      <td>1.0</td>\n",
       "      <td>322.99</td>\n",
       "      <td>132.97</td>\n",
       "      <td>2018</td>\n",
       "      <td>12</td>\n",
       "      <td>6</td>\n",
       "      <td>2018-12-06</td>\n",
       "      <td>49</td>\n",
       "      <td>201849</td>\n",
       "    </tr>\n",
       "    <tr>\n",
       "      <th>2</th>\n",
       "      <td>1</td>\n",
       "      <td>20181210</td>\n",
       "      <td>7010</td>\n",
       "      <td>2</td>\n",
       "      <td>2.0</td>\n",
       "      <td>322.99</td>\n",
       "      <td>132.97</td>\n",
       "      <td>2018</td>\n",
       "      <td>12</td>\n",
       "      <td>10</td>\n",
       "      <td>2018-12-10</td>\n",
       "      <td>50</td>\n",
       "      <td>201850</td>\n",
       "    </tr>\n",
       "    <tr>\n",
       "      <th>3</th>\n",
       "      <td>1</td>\n",
       "      <td>20190214</td>\n",
       "      <td>8380</td>\n",
       "      <td>2</td>\n",
       "      <td>1.0</td>\n",
       "      <td>322.99</td>\n",
       "      <td>132.97</td>\n",
       "      <td>2019</td>\n",
       "      <td>2</td>\n",
       "      <td>14</td>\n",
       "      <td>2019-02-14</td>\n",
       "      <td>7</td>\n",
       "      <td>201907</td>\n",
       "    </tr>\n",
       "    <tr>\n",
       "      <th>4</th>\n",
       "      <td>1</td>\n",
       "      <td>20190502</td>\n",
       "      <td>10639</td>\n",
       "      <td>1</td>\n",
       "      <td>2.0</td>\n",
       "      <td>219.99</td>\n",
       "      <td>132.97</td>\n",
       "      <td>2019</td>\n",
       "      <td>5</td>\n",
       "      <td>2</td>\n",
       "      <td>2019-05-02</td>\n",
       "      <td>18</td>\n",
       "      <td>201918</td>\n",
       "    </tr>\n",
       "  </tbody>\n",
       "</table>\n",
       "</div>"
      ],
      "text/plain": [
       "   SCRUB_ITEM  TIME_DIM_KEY  SCRUB_TRANS_NO  TRANS_SEQ_NO  UNIT_QTY  \\\n",
       "0           1      20180402            1296             2       2.0   \n",
       "1           1      20181206            6878             1       1.0   \n",
       "2           1      20181210            7010             2       2.0   \n",
       "3           1      20190214            8380             2       1.0   \n",
       "4           1      20190502           10639             1       2.0   \n",
       "\n",
       "   UNIT_PRICE  UNIT_COST  year  month  day       date  weekday  time_id  \n",
       "0      322.99     132.97  2018      4    2 2018-04-02       14   201814  \n",
       "1      322.99     132.97  2018     12    6 2018-12-06       49   201849  \n",
       "2      322.99     132.97  2018     12   10 2018-12-10       50   201850  \n",
       "3      322.99     132.97  2019      2   14 2019-02-14        7   201907  \n",
       "4      219.99     132.97  2019      5    2 2019-05-02       18   201918  "
      ]
     },
     "execution_count": 7,
     "metadata": {},
     "output_type": "execute_result"
    }
   ],
   "source": [
    "df_3['time_id'] = 100*df_3['year'] + df_3['weekday']\n",
    "df_3['time_id'] = np.where(df_3['time_id'] == 202153, 202101, df_3['time_id'])\n",
    "df_3.head()"
   ]
  },
  {
   "cell_type": "markdown",
   "metadata": {},
   "source": [
    "### Aggregate Day level Data to Weekly Level"
   ]
  },
  {
   "cell_type": "code",
   "execution_count": 8,
   "metadata": {},
   "outputs": [
    {
     "data": {
      "text/html": [
       "<div>\n",
       "<style scoped>\n",
       "    .dataframe tbody tr th:only-of-type {\n",
       "        vertical-align: middle;\n",
       "    }\n",
       "\n",
       "    .dataframe tbody tr th {\n",
       "        vertical-align: top;\n",
       "    }\n",
       "\n",
       "    .dataframe thead th {\n",
       "        text-align: right;\n",
       "    }\n",
       "</style>\n",
       "<table border=\"1\" class=\"dataframe\">\n",
       "  <thead>\n",
       "    <tr style=\"text-align: right;\">\n",
       "      <th></th>\n",
       "      <th>SCRUB_ITEM</th>\n",
       "      <th>time_id</th>\n",
       "      <th>UNIT_QTY</th>\n",
       "      <th>UNIT_PRICE</th>\n",
       "      <th>UNIT_COST</th>\n",
       "    </tr>\n",
       "  </thead>\n",
       "  <tbody>\n",
       "    <tr>\n",
       "      <th>0</th>\n",
       "      <td>1</td>\n",
       "      <td>201814</td>\n",
       "      <td>2.0</td>\n",
       "      <td>322.99</td>\n",
       "      <td>132.97</td>\n",
       "    </tr>\n",
       "    <tr>\n",
       "      <th>1</th>\n",
       "      <td>1</td>\n",
       "      <td>201849</td>\n",
       "      <td>1.0</td>\n",
       "      <td>322.99</td>\n",
       "      <td>132.97</td>\n",
       "    </tr>\n",
       "    <tr>\n",
       "      <th>2</th>\n",
       "      <td>1</td>\n",
       "      <td>201850</td>\n",
       "      <td>2.0</td>\n",
       "      <td>322.99</td>\n",
       "      <td>132.97</td>\n",
       "    </tr>\n",
       "    <tr>\n",
       "      <th>3</th>\n",
       "      <td>1</td>\n",
       "      <td>201901</td>\n",
       "      <td>1.0</td>\n",
       "      <td>199.99</td>\n",
       "      <td>132.97</td>\n",
       "    </tr>\n",
       "    <tr>\n",
       "      <th>4</th>\n",
       "      <td>1</td>\n",
       "      <td>201907</td>\n",
       "      <td>1.0</td>\n",
       "      <td>322.99</td>\n",
       "      <td>132.97</td>\n",
       "    </tr>\n",
       "  </tbody>\n",
       "</table>\n",
       "</div>"
      ],
      "text/plain": [
       "   SCRUB_ITEM  time_id  UNIT_QTY  UNIT_PRICE  UNIT_COST\n",
       "0           1   201814       2.0      322.99     132.97\n",
       "1           1   201849       1.0      322.99     132.97\n",
       "2           1   201850       2.0      322.99     132.97\n",
       "3           1   201901       1.0      199.99     132.97\n",
       "4           1   201907       1.0      322.99     132.97"
      ]
     },
     "execution_count": 8,
     "metadata": {},
     "output_type": "execute_result"
    }
   ],
   "source": [
    "df = df_3.groupby(['SCRUB_ITEM','time_id']).agg({'UNIT_QTY':'sum','UNIT_PRICE':'mean','UNIT_COST':'mean'}).reset_index()\n",
    "df.head()"
   ]
  },
  {
   "cell_type": "code",
   "execution_count": 9,
   "metadata": {},
   "outputs": [],
   "source": [
    "df = pd.merge(df,df_time, on = 'time_id', how = 'left')"
   ]
  },
  {
   "cell_type": "code",
   "execution_count": 10,
   "metadata": {},
   "outputs": [],
   "source": [
    "df['date'] = pd.to_datetime(df['date'])"
   ]
  },
  {
   "cell_type": "markdown",
   "metadata": {},
   "source": [
    "### Adding Fourier Features based on time to capture Seasonality"
   ]
  },
  {
   "cell_type": "code",
   "execution_count": 11,
   "metadata": {},
   "outputs": [],
   "source": [
    "#fourier features\n",
    "fourier = pd.DataFrame()\n",
    "fourier['date'] = df['date']\n",
    "fourier = fourier.drop_duplicates()\n",
    "fourier = fourier.sort_values(by = 'date')\n",
    "fourier = fourier.set_index(pd.PeriodIndex(fourier['date'],freq = 'W'))\n",
    "fourier['sin365'] = np.sin(2*np.pi*fourier.index.dayofyear/52)\n",
    "fourier['cos365'] = np.cos(2*np.pi*fourier.index.dayofyear/52)\n",
    "fourier['sin365_2'] = np.sin(4*np.pi*fourier.index.dayofyear/52)\n",
    "fourier['cos365_2'] = np.cos(4*np.pi*fourier.index.dayofyear/52)\n",
    "fourier= fourier.rename(columns = {'date':'Date'})\n",
    "fourier= fourier.reset_index()\n",
    "fourier = fourier.drop('date',axis =1)\n",
    "fourier= fourier.rename(columns = {'Date':'date'})\n",
    "fourier.head()\n"
   ]
  },
  {
   "cell_type": "code",
   "execution_count": 14,
   "metadata": {},
   "outputs": [
    {
     "data": {
      "text/html": [
       "<div>\n",
       "<style scoped>\n",
       "    .dataframe tbody tr th:only-of-type {\n",
       "        vertical-align: middle;\n",
       "    }\n",
       "\n",
       "    .dataframe tbody tr th {\n",
       "        vertical-align: top;\n",
       "    }\n",
       "\n",
       "    .dataframe thead th {\n",
       "        text-align: right;\n",
       "    }\n",
       "</style>\n",
       "<table border=\"1\" class=\"dataframe\">\n",
       "  <thead>\n",
       "    <tr style=\"text-align: right;\">\n",
       "      <th></th>\n",
       "      <th>SCRUB_ITEM</th>\n",
       "      <th>time_id</th>\n",
       "      <th>UNIT_QTY</th>\n",
       "      <th>UNIT_PRICE</th>\n",
       "      <th>UNIT_COST</th>\n",
       "      <th>year</th>\n",
       "      <th>weekday</th>\n",
       "      <th>date</th>\n",
       "      <th>sin365</th>\n",
       "      <th>cos365</th>\n",
       "      <th>sin365_2</th>\n",
       "      <th>cos365_2</th>\n",
       "    </tr>\n",
       "  </thead>\n",
       "  <tbody>\n",
       "    <tr>\n",
       "      <th>0</th>\n",
       "      <td>1</td>\n",
       "      <td>201814</td>\n",
       "      <td>2.0</td>\n",
       "      <td>322.99</td>\n",
       "      <td>132.97</td>\n",
       "      <td>2018</td>\n",
       "      <td>14</td>\n",
       "      <td>2018-04-02</td>\n",
       "      <td>-0.663123</td>\n",
       "      <td>0.748511</td>\n",
       "      <td>-0.992709</td>\n",
       "      <td>0.120537</td>\n",
       "    </tr>\n",
       "    <tr>\n",
       "      <th>1</th>\n",
       "      <td>7</td>\n",
       "      <td>201814</td>\n",
       "      <td>1.0</td>\n",
       "      <td>159.99</td>\n",
       "      <td>128.55</td>\n",
       "      <td>2018</td>\n",
       "      <td>14</td>\n",
       "      <td>2018-04-02</td>\n",
       "      <td>-0.663123</td>\n",
       "      <td>0.748511</td>\n",
       "      <td>-0.992709</td>\n",
       "      <td>0.120537</td>\n",
       "    </tr>\n",
       "    <tr>\n",
       "      <th>2</th>\n",
       "      <td>11</td>\n",
       "      <td>201814</td>\n",
       "      <td>1.0</td>\n",
       "      <td>559.99</td>\n",
       "      <td>440.99</td>\n",
       "      <td>2018</td>\n",
       "      <td>14</td>\n",
       "      <td>2018-04-02</td>\n",
       "      <td>-0.663123</td>\n",
       "      <td>0.748511</td>\n",
       "      <td>-0.992709</td>\n",
       "      <td>0.120537</td>\n",
       "    </tr>\n",
       "    <tr>\n",
       "      <th>3</th>\n",
       "      <td>19</td>\n",
       "      <td>201814</td>\n",
       "      <td>1.0</td>\n",
       "      <td>1999.99</td>\n",
       "      <td>1520.00</td>\n",
       "      <td>2018</td>\n",
       "      <td>14</td>\n",
       "      <td>2018-04-02</td>\n",
       "      <td>-0.663123</td>\n",
       "      <td>0.748511</td>\n",
       "      <td>-0.992709</td>\n",
       "      <td>0.120537</td>\n",
       "    </tr>\n",
       "    <tr>\n",
       "      <th>4</th>\n",
       "      <td>24</td>\n",
       "      <td>201814</td>\n",
       "      <td>1.0</td>\n",
       "      <td>99.99</td>\n",
       "      <td>62.99</td>\n",
       "      <td>2018</td>\n",
       "      <td>14</td>\n",
       "      <td>2018-04-02</td>\n",
       "      <td>-0.663123</td>\n",
       "      <td>0.748511</td>\n",
       "      <td>-0.992709</td>\n",
       "      <td>0.120537</td>\n",
       "    </tr>\n",
       "  </tbody>\n",
       "</table>\n",
       "</div>"
      ],
      "text/plain": [
       "   SCRUB_ITEM  time_id  UNIT_QTY  UNIT_PRICE  UNIT_COST  year  weekday  \\\n",
       "0           1   201814       2.0      322.99     132.97  2018       14   \n",
       "1           7   201814       1.0      159.99     128.55  2018       14   \n",
       "2          11   201814       1.0      559.99     440.99  2018       14   \n",
       "3          19   201814       1.0     1999.99    1520.00  2018       14   \n",
       "4          24   201814       1.0       99.99      62.99  2018       14   \n",
       "\n",
       "        date    sin365    cos365  sin365_2  cos365_2  \n",
       "0 2018-04-02 -0.663123  0.748511 -0.992709  0.120537  \n",
       "1 2018-04-02 -0.663123  0.748511 -0.992709  0.120537  \n",
       "2 2018-04-02 -0.663123  0.748511 -0.992709  0.120537  \n",
       "3 2018-04-02 -0.663123  0.748511 -0.992709  0.120537  \n",
       "4 2018-04-02 -0.663123  0.748511 -0.992709  0.120537  "
      ]
     },
     "execution_count": 14,
     "metadata": {},
     "output_type": "execute_result"
    }
   ],
   "source": [
    "df_1 = pd.merge(df,fourier, on = ['date'])\n",
    "df_1.head()"
   ]
  },
  {
   "cell_type": "markdown",
   "metadata": {},
   "source": [
    "### Calculate Margin for Lower Bound of Sales Price"
   ]
  },
  {
   "cell_type": "code",
   "execution_count": 15,
   "metadata": {},
   "outputs": [],
   "source": [
    "# calcualte margin\n",
    "df_w = df_1[df_1.year == 2021]\n",
    "df_margin = df_w.groupby('SCRUB_ITEM')\n",
    "df_margin = df_margin.agg({'UNIT_PRICE':'min','UNIT_COST':'min'}).reset_index()\n",
    "df_margin['margin'] = 100*(df_margin['UNIT_PRICE'] - df_margin['UNIT_COST'])/df_margin['UNIT_COST']"
   ]
  },
  {
   "cell_type": "code",
   "execution_count": 16,
   "metadata": {},
   "outputs": [
    {
     "data": {
      "text/plain": [
       "33.65736674437013"
      ]
     },
     "execution_count": 16,
     "metadata": {},
     "output_type": "execute_result"
    }
   ],
   "source": [
    "df_margin['margin'].mean()"
   ]
  },
  {
   "cell_type": "code",
   "execution_count": 17,
   "metadata": {},
   "outputs": [
    {
     "data": {
      "text/plain": [
       "153.90611160318858"
      ]
     },
     "execution_count": 17,
     "metadata": {},
     "output_type": "execute_result"
    }
   ],
   "source": [
    "df_margin['margin'].max()"
   ]
  },
  {
   "cell_type": "code",
   "execution_count": 18,
   "metadata": {},
   "outputs": [],
   "source": [
    "df_fourier = df_1.groupby('weekday')\n",
    "df_fourier = df_fourier[['sin365','cos365','sin365_2','cos365_2']].mean().reset_index()\n"
   ]
  },
  {
   "cell_type": "code",
   "execution_count": 19,
   "metadata": {},
   "outputs": [],
   "source": [
    "df_1 = df_1.sort_values(by = ['time_id']).reset_index()"
   ]
  },
  {
   "cell_type": "markdown",
   "metadata": {},
   "source": [
    "### Decompose Sales into Trend And Seasonality"
   ]
  },
  {
   "cell_type": "code",
   "execution_count": 46,
   "metadata": {},
   "outputs": [],
   "source": [
    "groups = df_1.groupby('SCRUB_ITEM')\n",
    "seasonal = {}\n",
    "m = 0\n",
    "for grp in groups:\n",
    "    x = grp[1]\n",
    "    x['date'] = pd.to_datetime(x['date'])\n",
    "    #tdi = pd.DatetimeIndex(x.date)\n",
    "    #x.set_index(tdi, inplace=True)\n",
    "    x = x.set_index(x['time_id'])\n",
    "    additional_decom = seasonal_decompose(x['UNIT_QTY'],model = 'additive',period=int(len(x)/3.5))\n",
    "    seasonal[grp[0]] = additional_decom\n",
    "list_item = df_1['SCRUB_ITEM'].unique()"
   ]
  },
  {
   "cell_type": "code",
   "execution_count": 51,
   "metadata": {},
   "outputs": [],
   "source": [
    "df_trend = pd.DataFrame(columns = ['time_id', 'SCRUB_ITEM', 'trend', 'seasonality'])\n",
    "for x in list_item:\n",
    "    p = seasonal[x]\n",
    "    df_x = pd.DataFrame(columns = ['SCRUB_ITEM','trend','seasonality'])\n",
    "    #print(x)\n",
    "    #df_x['time_id'] = p.trend.index\n",
    "    df_x['trend'] = p.trend\n",
    "    df_x['seasonality'] = p.seasonal\n",
    "    df_x['trend'] = df_x['trend'].fillna(method = 'backfill')\n",
    "    df_x['trend'] = df_x['trend'].fillna(method = 'ffill')\n",
    "    df_x['seasonality'] = df_x['seasonality'].fillna(method = 'backfill')\n",
    "    df_x['seasonality'] = df_x['seasonality'].fillna(method = 'ffill')\n",
    "    df_x['SCRUB_ITEM'] = x\n",
    "    df_x = df_x.reset_index()\n",
    "    df_trend = pd.concat([df_trend,df_x])"
   ]
  },
  {
   "cell_type": "code",
   "execution_count": 53,
   "metadata": {},
   "outputs": [
    {
     "data": {
      "text/plain": [
       "1.0"
      ]
     },
     "execution_count": 53,
     "metadata": {},
     "output_type": "execute_result"
    }
   ],
   "source": [
    "df_2 = pd.merge(df_1,df_trend, on = ['SCRUB_ITEM','time_id'])\n",
    "len(df_2)/len(df_1)"
   ]
  },
  {
   "cell_type": "code",
   "execution_count": 54,
   "metadata": {},
   "outputs": [],
   "source": [
    "data = df_2\n",
    "data[\"time_idx\"] = (data[\"year\"]-2018)*52 + data[\"weekday\"]\n",
    "data_min= data.groupby('SCRUB_ITEM').time_idx.min().reset_index()\n",
    "data_min.columns = ['SCRUB_ITEM','time_idx_min']\n",
    "data_1 = pd.merge(data,data_min, on = 'SCRUB_ITEM')\n",
    "data_1['time_idx'] =data_1['time_idx'] - data_1['time_idx_min']"
   ]
  },
  {
   "cell_type": "markdown",
   "metadata": {},
   "source": [
    "### Train TFT Model for forecasting Sales"
   ]
  },
  {
   "cell_type": "code",
   "execution_count": 62,
   "metadata": {},
   "outputs": [
    {
     "name": "stderr",
     "output_type": "stream",
     "text": [
      "/Users/parul/opt/anaconda3/lib/python3.8/site-packages/pytorch_forecasting/data/timeseries.py:1238: UserWarning: Min encoder length and/or min_prediction_idx and/or min prediction length and/or lags are too large for 10 series/groups which therefore are not present in the dataset index. This means no predictions can be made for those series. First 10 removed groups: [{'__group_id__SCRUB_ITEM': '22'}, {'__group_id__SCRUB_ITEM': '25'}, {'__group_id__SCRUB_ITEM': '26'}, {'__group_id__SCRUB_ITEM': '4'}, {'__group_id__SCRUB_ITEM': '60'}, {'__group_id__SCRUB_ITEM': '67'}, {'__group_id__SCRUB_ITEM': '8'}, {'__group_id__SCRUB_ITEM': '84'}, {'__group_id__SCRUB_ITEM': '9'}, {'__group_id__SCRUB_ITEM': '96'}]\n",
      "  warnings.warn(\n",
      "/Users/parul/opt/anaconda3/lib/python3.8/site-packages/pytorch_forecasting/data/timeseries.py:1238: UserWarning: Min encoder length and/or min_prediction_idx and/or min prediction length and/or lags are too large for 12 series/groups which therefore are not present in the dataset index. This means no predictions can be made for those series. First 10 removed groups: [{'__group_id__SCRUB_ITEM': '22'}, {'__group_id__SCRUB_ITEM': '25'}, {'__group_id__SCRUB_ITEM': '26'}, {'__group_id__SCRUB_ITEM': '30'}, {'__group_id__SCRUB_ITEM': '35'}, {'__group_id__SCRUB_ITEM': '4'}, {'__group_id__SCRUB_ITEM': '60'}, {'__group_id__SCRUB_ITEM': '67'}, {'__group_id__SCRUB_ITEM': '8'}, {'__group_id__SCRUB_ITEM': '84'}]\n",
      "  warnings.warn(\n"
     ]
    }
   ],
   "source": [
    "training_cutoff = data[\"time_idx\"].max() - 6\n",
    "max_encoder_length = 180\n",
    "max_prediction_length = 6\n",
    "data = data_1\n",
    "data['SCRUB_ITEM'] = data['SCRUB_ITEM'].astype(str)\n",
    "training = TimeSeriesDataSet(\n",
    "    data[lambda x: x.time_idx <= training_cutoff],\n",
    "    time_idx=\"time_idx\",\n",
    "    target=\"trend\",\n",
    "    group_ids=['SCRUB_ITEM'],\n",
    "    min_encoder_length=max_encoder_length // 2,  # allow encoder lengths from 0 to max_prediction_length\n",
    "    max_encoder_length=max_encoder_length,\n",
    "    min_prediction_length=1,\n",
    "    max_prediction_length=max_prediction_length,\n",
    "    static_categoricals=[\"SCRUB_ITEM\"],\n",
    "    static_reals=[],\n",
    "    time_varying_known_reals=['year','weekday','sin365','cos365'],\n",
    "    time_varying_unknown_reals=['trend'],\n",
    "    target_normalizer=GroupNormalizer(\n",
    "        groups=['SCRUB_ITEM'], transformation=\"softplus\", center=False\n",
    "    ),  # use softplus with beta=1.0 and normalize by group\n",
    "    add_relative_time_idx=True,\n",
    "    add_target_scales=True,\n",
    "    add_encoder_length=True,\n",
    "    allow_missing_timesteps=True\n",
    ")\n",
    "validation = TimeSeriesDataSet.from_dataset(training, data, predict=True, stop_randomization=True)\n",
    "batch_size = 32\n",
    "train_dataloader = training.to_dataloader(train=True, batch_size=batch_size, num_workers=0)\n",
    "val_dataloader = validation.to_dataloader(train=False, batch_size=batch_size, num_workers=0)"
   ]
  },
  {
   "cell_type": "code",
   "execution_count": 63,
   "metadata": {},
   "outputs": [
    {
     "name": "stderr",
     "output_type": "stream",
     "text": [
      "GPU available: False, used: False\n",
      "TPU available: False, using: 0 TPU cores\n",
      "IPU available: False, using: 0 IPUs\n"
     ]
    }
   ],
   "source": [
    "early_stop_callback = EarlyStopping(monitor=\"train_SMAPE\", min_delta=0.005, patience=10, verbose=False, mode=\"min\")\n",
    "lr_logger = LearningRateMonitor()\n",
    "logger = TensorBoardLogger(\"lightning_logs\")\n",
    "\n",
    "trainer = pl.Trainer(\n",
    "    max_epochs=100,\n",
    "    gpus=0,\n",
    "    weights_summary=\"full\",\n",
    "    gradient_clip_val=0.1,\n",
    "    callbacks=[lr_logger, early_stop_callback],\n",
    "    logger = logger\n",
    ")\n",
    "\n"
   ]
  },
  {
   "cell_type": "code",
   "execution_count": 64,
   "metadata": {},
   "outputs": [
    {
     "name": "stdout",
     "output_type": "stream",
     "text": [
      "Number of parameters in network: 50.5k\n"
     ]
    }
   ],
   "source": [
    "tft = TemporalFusionTransformer.from_dataset(\n",
    "    training,\n",
    "    learning_rate=0.03,\n",
    "    hidden_size=20,\n",
    "    attention_head_size=1,\n",
    "    dropout=0.1,\n",
    "    hidden_continuous_size=20,\n",
    "    output_size=7,\n",
    "    loss=QuantileLoss(),\n",
    "    log_interval=10,\n",
    "    log_val_interval=1,\n",
    "    reduce_on_plateau_patience=3,\n",
    ")\n",
    "print(f\"Number of parameters in network: {tft.size()/1e3:.1f}k\")\n"
   ]
  },
  {
   "cell_type": "code",
   "execution_count": 65,
   "metadata": {},
   "outputs": [
    {
     "name": "stderr",
     "output_type": "stream",
     "text": [
      "/Users/parul/opt/anaconda3/lib/python3.8/site-packages/pytorch_lightning/trainer/trainer.py:817: LightningDeprecationWarning: `trainer.tune(train_dataloader)` is deprecated in v1.4 and will be removed in v1.6. Use `trainer.tune(train_dataloaders)` instead. HINT: added 's'\n",
      "  rank_zero_deprecation(\n",
      "\n",
      "    | Name                                                                                      | Type                            | Params\n",
      "------------------------------------------------------------------------------------------------------------------------------------------------\n",
      "0   | loss                                                                                      | QuantileLoss                    | 0     \n",
      "1   | logging_metrics                                                                           | ModuleList                      | 0     \n",
      "2   | logging_metrics.0                                                                         | SMAPE                           | 0     \n",
      "3   | logging_metrics.1                                                                         | MAE                             | 0     \n",
      "4   | logging_metrics.2                                                                         | RMSE                            | 0     \n",
      "5   | logging_metrics.3                                                                         | MAPE                            | 0     \n",
      "6   | input_embeddings                                                                          | MultiEmbedding                  | 1.9 K \n",
      "7   | input_embeddings.embeddings                                                               | ModuleDict                      | 1.9 K \n",
      "8   | input_embeddings.embeddings.SCRUB_ITEM                                                    | Embedding                       | 1.9 K \n",
      "9   | prescalers                                                                                | ModuleDict                      | 360   \n",
      "10  | prescalers.encoder_length                                                                 | Linear                          | 40    \n",
      "11  | prescalers.trend_center                                                                   | Linear                          | 40    \n",
      "12  | prescalers.trend_scale                                                                    | Linear                          | 40    \n",
      "13  | prescalers.year                                                                           | Linear                          | 40    \n",
      "14  | prescalers.weekday                                                                        | Linear                          | 40    \n",
      "15  | prescalers.sin365                                                                         | Linear                          | 40    \n",
      "16  | prescalers.cos365                                                                         | Linear                          | 40    \n",
      "17  | prescalers.relative_time_idx                                                              | Linear                          | 40    \n",
      "18  | prescalers.trend                                                                          | Linear                          | 40    \n",
      "19  | static_variable_selection                                                                 | VariableSelectionNetwork        | 5.7 K \n",
      "20  | static_variable_selection.flattened_grn                                                   | GatedResidualNetwork            | 404   \n",
      "21  | static_variable_selection.flattened_grn.resample_norm                                     | ResampleNorm                    | 12    \n",
      "22  | static_variable_selection.flattened_grn.resample_norm.resample                            | TimeDistributedInterpolation    | 0     \n",
      "23  | static_variable_selection.flattened_grn.resample_norm.gate                                | Sigmoid                         | 0     \n",
      "24  | static_variable_selection.flattened_grn.resample_norm.norm                                | LayerNorm                       | 8     \n",
      "25  | static_variable_selection.flattened_grn.fc1                                               | Linear                          | 324   \n",
      "26  | static_variable_selection.flattened_grn.elu                                               | ELU                             | 0     \n",
      "27  | static_variable_selection.flattened_grn.fc2                                               | Linear                          | 20    \n",
      "28  | static_variable_selection.flattened_grn.gate_norm                                         | GateAddNorm                     | 48    \n",
      "29  | static_variable_selection.flattened_grn.gate_norm.glu                                     | GatedLinearUnit                 | 40    \n",
      "30  | static_variable_selection.flattened_grn.gate_norm.glu.dropout                             | Dropout                         | 0     \n",
      "31  | static_variable_selection.flattened_grn.gate_norm.glu.fc                                  | Linear                          | 40    \n",
      "32  | static_variable_selection.flattened_grn.gate_norm.add_norm                                | AddNorm                         | 8     \n",
      "33  | static_variable_selection.flattened_grn.gate_norm.add_norm.norm                           | LayerNorm                       | 8     \n",
      "34  | static_variable_selection.single_variable_grns                                            | ModuleDict                      | 5.2 K \n",
      "35  | static_variable_selection.single_variable_grns.SCRUB_ITEM                                 | ResampleNorm                    | 60    \n",
      "36  | static_variable_selection.single_variable_grns.SCRUB_ITEM.gate                            | Sigmoid                         | 0     \n",
      "37  | static_variable_selection.single_variable_grns.SCRUB_ITEM.norm                            | LayerNorm                       | 40    \n",
      "38  | static_variable_selection.single_variable_grns.encoder_length                             | GatedResidualNetwork            | 1.7 K \n",
      "39  | static_variable_selection.single_variable_grns.encoder_length.fc1                         | Linear                          | 420   \n",
      "40  | static_variable_selection.single_variable_grns.encoder_length.elu                         | ELU                             | 0     \n",
      "41  | static_variable_selection.single_variable_grns.encoder_length.fc2                         | Linear                          | 420   \n",
      "42  | static_variable_selection.single_variable_grns.encoder_length.gate_norm                   | GateAddNorm                     | 880   \n",
      "43  | static_variable_selection.single_variable_grns.encoder_length.gate_norm.glu               | GatedLinearUnit                 | 840   \n",
      "44  | static_variable_selection.single_variable_grns.encoder_length.gate_norm.glu.dropout       | Dropout                         | 0     \n",
      "45  | static_variable_selection.single_variable_grns.encoder_length.gate_norm.glu.fc            | Linear                          | 840   \n",
      "46  | static_variable_selection.single_variable_grns.encoder_length.gate_norm.add_norm          | AddNorm                         | 40    \n",
      "47  | static_variable_selection.single_variable_grns.encoder_length.gate_norm.add_norm.norm     | LayerNorm                       | 40    \n",
      "48  | static_variable_selection.single_variable_grns.trend_center                               | GatedResidualNetwork            | 1.7 K \n",
      "49  | static_variable_selection.single_variable_grns.trend_center.fc1                           | Linear                          | 420   \n",
      "50  | static_variable_selection.single_variable_grns.trend_center.elu                           | ELU                             | 0     \n",
      "51  | static_variable_selection.single_variable_grns.trend_center.fc2                           | Linear                          | 420   \n",
      "52  | static_variable_selection.single_variable_grns.trend_center.gate_norm                     | GateAddNorm                     | 880   \n",
      "53  | static_variable_selection.single_variable_grns.trend_center.gate_norm.glu                 | GatedLinearUnit                 | 840   \n",
      "54  | static_variable_selection.single_variable_grns.trend_center.gate_norm.glu.dropout         | Dropout                         | 0     \n",
      "55  | static_variable_selection.single_variable_grns.trend_center.gate_norm.glu.fc              | Linear                          | 840   \n",
      "56  | static_variable_selection.single_variable_grns.trend_center.gate_norm.add_norm            | AddNorm                         | 40    \n",
      "57  | static_variable_selection.single_variable_grns.trend_center.gate_norm.add_norm.norm       | LayerNorm                       | 40    \n",
      "58  | static_variable_selection.single_variable_grns.trend_scale                                | GatedResidualNetwork            | 1.7 K \n",
      "59  | static_variable_selection.single_variable_grns.trend_scale.fc1                            | Linear                          | 420   \n",
      "60  | static_variable_selection.single_variable_grns.trend_scale.elu                            | ELU                             | 0     \n",
      "61  | static_variable_selection.single_variable_grns.trend_scale.fc2                            | Linear                          | 420   \n",
      "62  | static_variable_selection.single_variable_grns.trend_scale.gate_norm                      | GateAddNorm                     | 880   \n",
      "63  | static_variable_selection.single_variable_grns.trend_scale.gate_norm.glu                  | GatedLinearUnit                 | 840   \n",
      "64  | static_variable_selection.single_variable_grns.trend_scale.gate_norm.glu.dropout          | Dropout                         | 0     \n",
      "65  | static_variable_selection.single_variable_grns.trend_scale.gate_norm.glu.fc               | Linear                          | 840   \n",
      "66  | static_variable_selection.single_variable_grns.trend_scale.gate_norm.add_norm             | AddNorm                         | 40    \n",
      "67  | static_variable_selection.single_variable_grns.trend_scale.gate_norm.add_norm.norm        | LayerNorm                       | 40    \n",
      "68  | static_variable_selection.prescalers                                                      | ModuleDict                      | 120   \n",
      "69  | static_variable_selection.softmax                                                         | Softmax                         | 0     \n",
      "70  | encoder_variable_selection                                                                | VariableSelectionNetwork        | 11.6 K\n",
      "71  | encoder_variable_selection.flattened_grn                                                  | GatedResidualNetwork            | 1.0 K \n",
      "72  | encoder_variable_selection.flattened_grn.resample_norm                                    | ResampleNorm                    | 18    \n",
      "73  | encoder_variable_selection.flattened_grn.resample_norm.resample                           | TimeDistributedInterpolation    | 0     \n",
      "74  | encoder_variable_selection.flattened_grn.resample_norm.gate                               | Sigmoid                         | 0     \n",
      "75  | encoder_variable_selection.flattened_grn.resample_norm.norm                               | LayerNorm                       | 12    \n",
      "76  | encoder_variable_selection.flattened_grn.fc1                                              | Linear                          | 726   \n",
      "77  | encoder_variable_selection.flattened_grn.elu                                              | ELU                             | 0     \n",
      "78  | encoder_variable_selection.flattened_grn.context                                          | Linear                          | 120   \n",
      "79  | encoder_variable_selection.flattened_grn.fc2                                              | Linear                          | 42    \n",
      "80  | encoder_variable_selection.flattened_grn.gate_norm                                        | GateAddNorm                     | 96    \n",
      "81  | encoder_variable_selection.flattened_grn.gate_norm.glu                                    | GatedLinearUnit                 | 84    \n",
      "82  | encoder_variable_selection.flattened_grn.gate_norm.glu.dropout                            | Dropout                         | 0     \n",
      "83  | encoder_variable_selection.flattened_grn.gate_norm.glu.fc                                 | Linear                          | 84    \n",
      "84  | encoder_variable_selection.flattened_grn.gate_norm.add_norm                               | AddNorm                         | 12    \n",
      "85  | encoder_variable_selection.flattened_grn.gate_norm.add_norm.norm                          | LayerNorm                       | 12    \n",
      "86  | encoder_variable_selection.single_variable_grns                                           | ModuleDict                      | 10.3 K\n",
      "87  | encoder_variable_selection.single_variable_grns.year                                      | GatedResidualNetwork            | 1.7 K \n",
      "88  | encoder_variable_selection.single_variable_grns.year.fc1                                  | Linear                          | 420   \n",
      "89  | encoder_variable_selection.single_variable_grns.year.elu                                  | ELU                             | 0     \n",
      "90  | encoder_variable_selection.single_variable_grns.year.fc2                                  | Linear                          | 420   \n",
      "91  | encoder_variable_selection.single_variable_grns.year.gate_norm                            | GateAddNorm                     | 880   \n",
      "92  | encoder_variable_selection.single_variable_grns.year.gate_norm.glu                        | GatedLinearUnit                 | 840   \n",
      "93  | encoder_variable_selection.single_variable_grns.year.gate_norm.glu.dropout                | Dropout                         | 0     \n",
      "94  | encoder_variable_selection.single_variable_grns.year.gate_norm.glu.fc                     | Linear                          | 840   \n",
      "95  | encoder_variable_selection.single_variable_grns.year.gate_norm.add_norm                   | AddNorm                         | 40    \n",
      "96  | encoder_variable_selection.single_variable_grns.year.gate_norm.add_norm.norm              | LayerNorm                       | 40    \n",
      "97  | encoder_variable_selection.single_variable_grns.weekday                                   | GatedResidualNetwork            | 1.7 K \n",
      "98  | encoder_variable_selection.single_variable_grns.weekday.fc1                               | Linear                          | 420   \n",
      "99  | encoder_variable_selection.single_variable_grns.weekday.elu                               | ELU                             | 0     \n",
      "100 | encoder_variable_selection.single_variable_grns.weekday.fc2                               | Linear                          | 420   \n",
      "101 | encoder_variable_selection.single_variable_grns.weekday.gate_norm                         | GateAddNorm                     | 880   \n",
      "102 | encoder_variable_selection.single_variable_grns.weekday.gate_norm.glu                     | GatedLinearUnit                 | 840   \n",
      "103 | encoder_variable_selection.single_variable_grns.weekday.gate_norm.glu.dropout             | Dropout                         | 0     \n",
      "104 | encoder_variable_selection.single_variable_grns.weekday.gate_norm.glu.fc                  | Linear                          | 840   \n",
      "105 | encoder_variable_selection.single_variable_grns.weekday.gate_norm.add_norm                | AddNorm                         | 40    \n",
      "106 | encoder_variable_selection.single_variable_grns.weekday.gate_norm.add_norm.norm           | LayerNorm                       | 40    \n",
      "107 | encoder_variable_selection.single_variable_grns.sin365                                    | GatedResidualNetwork            | 1.7 K \n",
      "108 | encoder_variable_selection.single_variable_grns.sin365.fc1                                | Linear                          | 420   \n",
      "109 | encoder_variable_selection.single_variable_grns.sin365.elu                                | ELU                             | 0     \n",
      "110 | encoder_variable_selection.single_variable_grns.sin365.fc2                                | Linear                          | 420   \n",
      "111 | encoder_variable_selection.single_variable_grns.sin365.gate_norm                          | GateAddNorm                     | 880   \n",
      "112 | encoder_variable_selection.single_variable_grns.sin365.gate_norm.glu                      | GatedLinearUnit                 | 840   \n",
      "113 | encoder_variable_selection.single_variable_grns.sin365.gate_norm.glu.dropout              | Dropout                         | 0     \n",
      "114 | encoder_variable_selection.single_variable_grns.sin365.gate_norm.glu.fc                   | Linear                          | 840   \n",
      "115 | encoder_variable_selection.single_variable_grns.sin365.gate_norm.add_norm                 | AddNorm                         | 40    \n",
      "116 | encoder_variable_selection.single_variable_grns.sin365.gate_norm.add_norm.norm            | LayerNorm                       | 40    \n",
      "117 | encoder_variable_selection.single_variable_grns.cos365                                    | GatedResidualNetwork            | 1.7 K \n",
      "118 | encoder_variable_selection.single_variable_grns.cos365.fc1                                | Linear                          | 420   \n",
      "119 | encoder_variable_selection.single_variable_grns.cos365.elu                                | ELU                             | 0     \n",
      "120 | encoder_variable_selection.single_variable_grns.cos365.fc2                                | Linear                          | 420   \n",
      "121 | encoder_variable_selection.single_variable_grns.cos365.gate_norm                          | GateAddNorm                     | 880   \n",
      "122 | encoder_variable_selection.single_variable_grns.cos365.gate_norm.glu                      | GatedLinearUnit                 | 840   \n",
      "123 | encoder_variable_selection.single_variable_grns.cos365.gate_norm.glu.dropout              | Dropout                         | 0     \n",
      "124 | encoder_variable_selection.single_variable_grns.cos365.gate_norm.glu.fc                   | Linear                          | 840   \n",
      "125 | encoder_variable_selection.single_variable_grns.cos365.gate_norm.add_norm                 | AddNorm                         | 40    \n",
      "126 | encoder_variable_selection.single_variable_grns.cos365.gate_norm.add_norm.norm            | LayerNorm                       | 40    \n",
      "127 | encoder_variable_selection.single_variable_grns.relative_time_idx                         | GatedResidualNetwork            | 1.7 K \n",
      "128 | encoder_variable_selection.single_variable_grns.relative_time_idx.fc1                     | Linear                          | 420   \n",
      "129 | encoder_variable_selection.single_variable_grns.relative_time_idx.elu                     | ELU                             | 0     \n",
      "130 | encoder_variable_selection.single_variable_grns.relative_time_idx.fc2                     | Linear                          | 420   \n",
      "131 | encoder_variable_selection.single_variable_grns.relative_time_idx.gate_norm               | GateAddNorm                     | 880   \n",
      "132 | encoder_variable_selection.single_variable_grns.relative_time_idx.gate_norm.glu           | GatedLinearUnit                 | 840   \n",
      "133 | encoder_variable_selection.single_variable_grns.relative_time_idx.gate_norm.glu.dropout   | Dropout                         | 0     \n",
      "134 | encoder_variable_selection.single_variable_grns.relative_time_idx.gate_norm.glu.fc        | Linear                          | 840   \n",
      "135 | encoder_variable_selection.single_variable_grns.relative_time_idx.gate_norm.add_norm      | AddNorm                         | 40    \n",
      "136 | encoder_variable_selection.single_variable_grns.relative_time_idx.gate_norm.add_norm.norm | LayerNorm                       | 40    \n",
      "137 | encoder_variable_selection.single_variable_grns.trend                                     | GatedResidualNetwork            | 1.7 K \n",
      "138 | encoder_variable_selection.single_variable_grns.trend.fc1                                 | Linear                          | 420   \n",
      "139 | encoder_variable_selection.single_variable_grns.trend.elu                                 | ELU                             | 0     \n",
      "140 | encoder_variable_selection.single_variable_grns.trend.fc2                                 | Linear                          | 420   \n",
      "141 | encoder_variable_selection.single_variable_grns.trend.gate_norm                           | GateAddNorm                     | 880   \n",
      "142 | encoder_variable_selection.single_variable_grns.trend.gate_norm.glu                       | GatedLinearUnit                 | 840   \n",
      "143 | encoder_variable_selection.single_variable_grns.trend.gate_norm.glu.dropout               | Dropout                         | 0     \n",
      "144 | encoder_variable_selection.single_variable_grns.trend.gate_norm.glu.fc                    | Linear                          | 840   \n",
      "145 | encoder_variable_selection.single_variable_grns.trend.gate_norm.add_norm                  | AddNorm                         | 40    \n",
      "146 | encoder_variable_selection.single_variable_grns.trend.gate_norm.add_norm.norm             | LayerNorm                       | 40    \n",
      "147 | encoder_variable_selection.prescalers                                                     | ModuleDict                      | 240   \n",
      "148 | encoder_variable_selection.softmax                                                        | Softmax                         | 0     \n",
      "149 | decoder_variable_selection                                                                | VariableSelectionNetwork        | 9.5 K \n",
      "150 | decoder_variable_selection.flattened_grn                                                  | GatedResidualNetwork            | 720   \n",
      "151 | decoder_variable_selection.flattened_grn.resample_norm                                    | ResampleNorm                    | 15    \n",
      "152 | decoder_variable_selection.flattened_grn.resample_norm.resample                           | TimeDistributedInterpolation    | 0     \n",
      "153 | decoder_variable_selection.flattened_grn.resample_norm.gate                               | Sigmoid                         | 0     \n",
      "154 | decoder_variable_selection.flattened_grn.resample_norm.norm                               | LayerNorm                       | 10    \n",
      "155 | decoder_variable_selection.flattened_grn.fc1                                              | Linear                          | 505   \n",
      "156 | decoder_variable_selection.flattened_grn.elu                                              | ELU                             | 0     \n",
      "157 | decoder_variable_selection.flattened_grn.context                                          | Linear                          | 100   \n",
      "158 | decoder_variable_selection.flattened_grn.fc2                                              | Linear                          | 30    \n",
      "159 | decoder_variable_selection.flattened_grn.gate_norm                                        | GateAddNorm                     | 70    \n",
      "160 | decoder_variable_selection.flattened_grn.gate_norm.glu                                    | GatedLinearUnit                 | 60    \n",
      "161 | decoder_variable_selection.flattened_grn.gate_norm.glu.dropout                            | Dropout                         | 0     \n",
      "162 | decoder_variable_selection.flattened_grn.gate_norm.glu.fc                                 | Linear                          | 60    \n",
      "163 | decoder_variable_selection.flattened_grn.gate_norm.add_norm                               | AddNorm                         | 10    \n",
      "164 | decoder_variable_selection.flattened_grn.gate_norm.add_norm.norm                          | LayerNorm                       | 10    \n",
      "165 | decoder_variable_selection.single_variable_grns                                           | ModuleDict                      | 8.6 K \n",
      "166 | decoder_variable_selection.single_variable_grns.year                                      | GatedResidualNetwork            | 1.7 K \n",
      "167 | decoder_variable_selection.single_variable_grns.year.fc1                                  | Linear                          | 420   \n",
      "168 | decoder_variable_selection.single_variable_grns.year.elu                                  | ELU                             | 0     \n",
      "169 | decoder_variable_selection.single_variable_grns.year.fc2                                  | Linear                          | 420   \n",
      "170 | decoder_variable_selection.single_variable_grns.year.gate_norm                            | GateAddNorm                     | 880   \n",
      "171 | decoder_variable_selection.single_variable_grns.year.gate_norm.glu                        | GatedLinearUnit                 | 840   \n",
      "172 | decoder_variable_selection.single_variable_grns.year.gate_norm.glu.dropout                | Dropout                         | 0     \n",
      "173 | decoder_variable_selection.single_variable_grns.year.gate_norm.glu.fc                     | Linear                          | 840   \n",
      "174 | decoder_variable_selection.single_variable_grns.year.gate_norm.add_norm                   | AddNorm                         | 40    \n",
      "175 | decoder_variable_selection.single_variable_grns.year.gate_norm.add_norm.norm              | LayerNorm                       | 40    \n",
      "176 | decoder_variable_selection.single_variable_grns.weekday                                   | GatedResidualNetwork            | 1.7 K \n",
      "177 | decoder_variable_selection.single_variable_grns.weekday.fc1                               | Linear                          | 420   \n",
      "178 | decoder_variable_selection.single_variable_grns.weekday.elu                               | ELU                             | 0     \n",
      "179 | decoder_variable_selection.single_variable_grns.weekday.fc2                               | Linear                          | 420   \n",
      "180 | decoder_variable_selection.single_variable_grns.weekday.gate_norm                         | GateAddNorm                     | 880   \n",
      "181 | decoder_variable_selection.single_variable_grns.weekday.gate_norm.glu                     | GatedLinearUnit                 | 840   \n",
      "182 | decoder_variable_selection.single_variable_grns.weekday.gate_norm.glu.dropout             | Dropout                         | 0     \n",
      "183 | decoder_variable_selection.single_variable_grns.weekday.gate_norm.glu.fc                  | Linear                          | 840   \n",
      "184 | decoder_variable_selection.single_variable_grns.weekday.gate_norm.add_norm                | AddNorm                         | 40    \n",
      "185 | decoder_variable_selection.single_variable_grns.weekday.gate_norm.add_norm.norm           | LayerNorm                       | 40    \n",
      "186 | decoder_variable_selection.single_variable_grns.sin365                                    | GatedResidualNetwork            | 1.7 K \n",
      "187 | decoder_variable_selection.single_variable_grns.sin365.fc1                                | Linear                          | 420   \n",
      "188 | decoder_variable_selection.single_variable_grns.sin365.elu                                | ELU                             | 0     \n",
      "189 | decoder_variable_selection.single_variable_grns.sin365.fc2                                | Linear                          | 420   \n",
      "190 | decoder_variable_selection.single_variable_grns.sin365.gate_norm                          | GateAddNorm                     | 880   \n",
      "191 | decoder_variable_selection.single_variable_grns.sin365.gate_norm.glu                      | GatedLinearUnit                 | 840   \n",
      "192 | decoder_variable_selection.single_variable_grns.sin365.gate_norm.glu.dropout              | Dropout                         | 0     \n",
      "193 | decoder_variable_selection.single_variable_grns.sin365.gate_norm.glu.fc                   | Linear                          | 840   \n",
      "194 | decoder_variable_selection.single_variable_grns.sin365.gate_norm.add_norm                 | AddNorm                         | 40    \n",
      "195 | decoder_variable_selection.single_variable_grns.sin365.gate_norm.add_norm.norm            | LayerNorm                       | 40    \n",
      "196 | decoder_variable_selection.single_variable_grns.cos365                                    | GatedResidualNetwork            | 1.7 K \n",
      "197 | decoder_variable_selection.single_variable_grns.cos365.fc1                                | Linear                          | 420   \n",
      "198 | decoder_variable_selection.single_variable_grns.cos365.elu                                | ELU                             | 0     \n",
      "199 | decoder_variable_selection.single_variable_grns.cos365.fc2                                | Linear                          | 420   \n",
      "200 | decoder_variable_selection.single_variable_grns.cos365.gate_norm                          | GateAddNorm                     | 880   \n",
      "201 | decoder_variable_selection.single_variable_grns.cos365.gate_norm.glu                      | GatedLinearUnit                 | 840   \n",
      "202 | decoder_variable_selection.single_variable_grns.cos365.gate_norm.glu.dropout              | Dropout                         | 0     \n",
      "203 | decoder_variable_selection.single_variable_grns.cos365.gate_norm.glu.fc                   | Linear                          | 840   \n",
      "204 | decoder_variable_selection.single_variable_grns.cos365.gate_norm.add_norm                 | AddNorm                         | 40    \n",
      "205 | decoder_variable_selection.single_variable_grns.cos365.gate_norm.add_norm.norm            | LayerNorm                       | 40    \n",
      "206 | decoder_variable_selection.single_variable_grns.relative_time_idx                         | GatedResidualNetwork            | 1.7 K \n",
      "207 | decoder_variable_selection.single_variable_grns.relative_time_idx.fc1                     | Linear                          | 420   \n",
      "208 | decoder_variable_selection.single_variable_grns.relative_time_idx.elu                     | ELU                             | 0     \n",
      "209 | decoder_variable_selection.single_variable_grns.relative_time_idx.fc2                     | Linear                          | 420   \n",
      "210 | decoder_variable_selection.single_variable_grns.relative_time_idx.gate_norm               | GateAddNorm                     | 880   \n",
      "211 | decoder_variable_selection.single_variable_grns.relative_time_idx.gate_norm.glu           | GatedLinearUnit                 | 840   \n",
      "212 | decoder_variable_selection.single_variable_grns.relative_time_idx.gate_norm.glu.dropout   | Dropout                         | 0     \n",
      "213 | decoder_variable_selection.single_variable_grns.relative_time_idx.gate_norm.glu.fc        | Linear                          | 840   \n",
      "214 | decoder_variable_selection.single_variable_grns.relative_time_idx.gate_norm.add_norm      | AddNorm                         | 40    \n",
      "215 | decoder_variable_selection.single_variable_grns.relative_time_idx.gate_norm.add_norm.norm | LayerNorm                       | 40    \n",
      "216 | decoder_variable_selection.prescalers                                                     | ModuleDict                      | 200   \n",
      "217 | decoder_variable_selection.softmax                                                        | Softmax                         | 0     \n",
      "218 | static_context_variable_selection                                                         | GatedResidualNetwork            | 1.7 K \n",
      "219 | static_context_variable_selection.fc1                                                     | Linear                          | 420   \n",
      "220 | static_context_variable_selection.elu                                                     | ELU                             | 0     \n",
      "221 | static_context_variable_selection.fc2                                                     | Linear                          | 420   \n",
      "222 | static_context_variable_selection.gate_norm                                               | GateAddNorm                     | 880   \n",
      "223 | static_context_variable_selection.gate_norm.glu                                           | GatedLinearUnit                 | 840   \n",
      "224 | static_context_variable_selection.gate_norm.glu.dropout                                   | Dropout                         | 0     \n",
      "225 | static_context_variable_selection.gate_norm.glu.fc                                        | Linear                          | 840   \n",
      "226 | static_context_variable_selection.gate_norm.add_norm                                      | AddNorm                         | 40    \n",
      "227 | static_context_variable_selection.gate_norm.add_norm.norm                                 | LayerNorm                       | 40    \n",
      "228 | static_context_initial_hidden_lstm                                                        | GatedResidualNetwork            | 1.7 K \n",
      "229 | static_context_initial_hidden_lstm.fc1                                                    | Linear                          | 420   \n",
      "230 | static_context_initial_hidden_lstm.elu                                                    | ELU                             | 0     \n",
      "231 | static_context_initial_hidden_lstm.fc2                                                    | Linear                          | 420   \n",
      "232 | static_context_initial_hidden_lstm.gate_norm                                              | GateAddNorm                     | 880   \n",
      "233 | static_context_initial_hidden_lstm.gate_norm.glu                                          | GatedLinearUnit                 | 840   \n",
      "234 | static_context_initial_hidden_lstm.gate_norm.glu.dropout                                  | Dropout                         | 0     \n",
      "235 | static_context_initial_hidden_lstm.gate_norm.glu.fc                                       | Linear                          | 840   \n",
      "236 | static_context_initial_hidden_lstm.gate_norm.add_norm                                     | AddNorm                         | 40    \n",
      "237 | static_context_initial_hidden_lstm.gate_norm.add_norm.norm                                | LayerNorm                       | 40    \n",
      "238 | static_context_initial_cell_lstm                                                          | GatedResidualNetwork            | 1.7 K \n",
      "239 | static_context_initial_cell_lstm.fc1                                                      | Linear                          | 420   \n",
      "240 | static_context_initial_cell_lstm.elu                                                      | ELU                             | 0     \n",
      "241 | static_context_initial_cell_lstm.fc2                                                      | Linear                          | 420   \n",
      "242 | static_context_initial_cell_lstm.gate_norm                                                | GateAddNorm                     | 880   \n",
      "243 | static_context_initial_cell_lstm.gate_norm.glu                                            | GatedLinearUnit                 | 840   \n",
      "244 | static_context_initial_cell_lstm.gate_norm.glu.dropout                                    | Dropout                         | 0     \n",
      "245 | static_context_initial_cell_lstm.gate_norm.glu.fc                                         | Linear                          | 840   \n",
      "246 | static_context_initial_cell_lstm.gate_norm.add_norm                                       | AddNorm                         | 40    \n",
      "247 | static_context_initial_cell_lstm.gate_norm.add_norm.norm                                  | LayerNorm                       | 40    \n",
      "248 | static_context_enrichment                                                                 | GatedResidualNetwork            | 1.7 K \n",
      "249 | static_context_enrichment.fc1                                                             | Linear                          | 420   \n",
      "250 | static_context_enrichment.elu                                                             | ELU                             | 0     \n",
      "251 | static_context_enrichment.fc2                                                             | Linear                          | 420   \n",
      "252 | static_context_enrichment.gate_norm                                                       | GateAddNorm                     | 880   \n",
      "253 | static_context_enrichment.gate_norm.glu                                                   | GatedLinearUnit                 | 840   \n",
      "254 | static_context_enrichment.gate_norm.glu.dropout                                           | Dropout                         | 0     \n",
      "255 | static_context_enrichment.gate_norm.glu.fc                                                | Linear                          | 840   \n",
      "256 | static_context_enrichment.gate_norm.add_norm                                              | AddNorm                         | 40    \n",
      "257 | static_context_enrichment.gate_norm.add_norm.norm                                         | LayerNorm                       | 40    \n",
      "258 | lstm_encoder                                                                              | LSTM                            | 3.4 K \n",
      "259 | lstm_decoder                                                                              | LSTM                            | 3.4 K \n",
      "260 | post_lstm_gate_encoder                                                                    | GatedLinearUnit                 | 840   \n",
      "261 | post_lstm_gate_encoder.dropout                                                            | Dropout                         | 0     \n",
      "262 | post_lstm_gate_encoder.fc                                                                 | Linear                          | 840   \n",
      "263 | post_lstm_add_norm_encoder                                                                | AddNorm                         | 40    \n",
      "264 | post_lstm_add_norm_encoder.norm                                                           | LayerNorm                       | 40    \n",
      "265 | static_enrichment                                                                         | GatedResidualNetwork            | 2.1 K \n",
      "266 | static_enrichment.fc1                                                                     | Linear                          | 420   \n",
      "267 | static_enrichment.elu                                                                     | ELU                             | 0     \n",
      "268 | static_enrichment.context                                                                 | Linear                          | 400   \n",
      "269 | static_enrichment.fc2                                                                     | Linear                          | 420   \n",
      "270 | static_enrichment.gate_norm                                                               | GateAddNorm                     | 880   \n",
      "271 | static_enrichment.gate_norm.glu                                                           | GatedLinearUnit                 | 840   \n",
      "272 | static_enrichment.gate_norm.glu.dropout                                                   | Dropout                         | 0     \n",
      "273 | static_enrichment.gate_norm.glu.fc                                                        | Linear                          | 840   \n",
      "274 | static_enrichment.gate_norm.add_norm                                                      | AddNorm                         | 40    \n",
      "275 | static_enrichment.gate_norm.add_norm.norm                                                 | LayerNorm                       | 40    \n",
      "276 | multihead_attn                                                                            | InterpretableMultiHeadAttention | 1.7 K \n",
      "277 | multihead_attn.dropout                                                                    | Dropout                         | 0     \n",
      "278 | multihead_attn.v_layer                                                                    | Linear                          | 420   \n",
      "279 | multihead_attn.q_layers                                                                   | ModuleList                      | 420   \n",
      "280 | multihead_attn.q_layers.0                                                                 | Linear                          | 420   \n",
      "281 | multihead_attn.k_layers                                                                   | ModuleList                      | 420   \n",
      "282 | multihead_attn.k_layers.0                                                                 | Linear                          | 420   \n",
      "283 | multihead_attn.attention                                                                  | ScaledDotProductAttention       | 0     \n",
      "284 | multihead_attn.attention.softmax                                                          | Softmax                         | 0     \n",
      "285 | multihead_attn.w_h                                                                        | Linear                          | 400   \n",
      "286 | post_attn_gate_norm                                                                       | GateAddNorm                     | 880   \n",
      "287 | post_attn_gate_norm.glu                                                                   | GatedLinearUnit                 | 840   \n",
      "288 | post_attn_gate_norm.glu.dropout                                                           | Dropout                         | 0     \n",
      "289 | post_attn_gate_norm.glu.fc                                                                | Linear                          | 840   \n",
      "290 | post_attn_gate_norm.add_norm                                                              | AddNorm                         | 40    \n",
      "291 | post_attn_gate_norm.add_norm.norm                                                         | LayerNorm                       | 40    \n",
      "292 | pos_wise_ff                                                                               | GatedResidualNetwork            | 1.7 K \n",
      "293 | pos_wise_ff.fc1                                                                           | Linear                          | 420   \n",
      "294 | pos_wise_ff.elu                                                                           | ELU                             | 0     \n",
      "295 | pos_wise_ff.fc2                                                                           | Linear                          | 420   \n",
      "296 | pos_wise_ff.gate_norm                                                                     | GateAddNorm                     | 880   \n",
      "297 | pos_wise_ff.gate_norm.glu                                                                 | GatedLinearUnit                 | 840   \n",
      "298 | pos_wise_ff.gate_norm.glu.dropout                                                         | Dropout                         | 0     \n",
      "299 | pos_wise_ff.gate_norm.glu.fc                                                              | Linear                          | 840   \n",
      "300 | pos_wise_ff.gate_norm.add_norm                                                            | AddNorm                         | 40    \n",
      "301 | pos_wise_ff.gate_norm.add_norm.norm                                                       | LayerNorm                       | 40    \n",
      "302 | pre_output_gate_norm                                                                      | GateAddNorm                     | 880   \n",
      "303 | pre_output_gate_norm.glu                                                                  | GatedLinearUnit                 | 840   \n",
      "304 | pre_output_gate_norm.glu.fc                                                               | Linear                          | 840   \n",
      "305 | pre_output_gate_norm.add_norm                                                             | AddNorm                         | 40    \n",
      "306 | pre_output_gate_norm.add_norm.norm                                                        | LayerNorm                       | 40    \n",
      "307 | output_layer                                                                              | Linear                          | 147   \n",
      "------------------------------------------------------------------------------------------------------------------------------------------------\n",
      "50.5 K    Trainable params\n",
      "0         Non-trainable params\n",
      "50.5 K    Total params\n",
      "0.202     Total estimated model params size (MB)\n"
     ]
    },
    {
     "name": "stderr",
     "output_type": "stream",
     "text": [
      "/Users/parul/opt/anaconda3/lib/python3.8/site-packages/pytorch_lightning/trainer/data_loading.py:105: UserWarning: The dataloader, val dataloader 0, does not have many workers which may be a bottleneck. Consider increasing the value of the `num_workers` argument` (try 8 which is the number of cpus on this machine) in the `DataLoader` init to improve performance.\n",
      "  rank_zero_warn(\n",
      "/Users/parul/opt/anaconda3/lib/python3.8/site-packages/pytorch_lightning/trainer/data_loading.py:105: UserWarning: The dataloader, train dataloader, does not have many workers which may be a bottleneck. Consider increasing the value of the `num_workers` argument` (try 8 which is the number of cpus on this machine) in the `DataLoader` init to improve performance.\n",
      "  rank_zero_warn(\n"
     ]
    },
    {
     "data": {
      "application/vnd.jupyter.widget-view+json": {
       "model_id": "975d1db211ff463b8ec310858ecb446f",
       "version_major": 2,
       "version_minor": 0
      },
      "text/plain": [
       "HBox(children=(HTML(value='Finding best initial lr'), FloatProgress(value=0.0), HTML(value='')))"
      ]
     },
     "metadata": {},
     "output_type": "display_data"
    },
    {
     "name": "stderr",
     "output_type": "stream",
     "text": [
      "Restoring states from the checkpoint file at /Users/parul/Downloads/PriceOptimizationc6dad82/lr_find_temp_model.ckpt\n",
      "Restored all states from the checkpoint file at /Users/parul/Downloads/PriceOptimizationc6dad82/lr_find_temp_model.ckpt\n"
     ]
    },
    {
     "name": "stdout",
     "output_type": "stream",
     "text": [
      "suggested learning rate: 5.88843655355589e-05\n"
     ]
    },
    {
     "data": {
      "image/png": "[encoded data removed]",
      "text/plain": [
       "<Figure size 432x288 with 1 Axes>"
      ]
     },
     "metadata": {
      "needs_background": "light"
     },
     "output_type": "display_data"
    },
    {
     "name": "stderr",
     "output_type": "stream",
     "text": [
      "<ipython-input-65-20232e7f9faa>:12: UserWarning: Matplotlib is currently using module://ipykernel.pylab.backend_inline, which is a non-GUI backend, so cannot show the figure.\n",
      "  fig.show()\n"
     ]
    }
   ],
   "source": [
    "# find optimal learning rate\n",
    "# remove logging and artificial epoch size\n",
    "tft.hparams.log_interval = -1\n",
    "tft.hparams.log_val_interval = -1\n",
    "trainer.limit_train_batches = 1.0\n",
    "# run learning rate finder\n",
    "res = trainer.tuner.lr_find(\n",
    "    tft, train_dataloader=train_dataloader, val_dataloaders=val_dataloader, min_lr=1e-5, max_lr=1e2\n",
    ")\n",
    "print(f\"suggested learning rate: {res.suggestion()}\")\n",
    "fig = res.plot(show=True, suggest=True)\n",
    "fig.show()\n",
    "tft.hparams.learning_rate = res.suggestion()\n",
    "\n"
   ]
  },
  {
   "cell_type": "code",
   "execution_count": 66,
   "metadata": {},
   "outputs": [
    {
     "name": "stderr",
     "output_type": "stream",
     "text": [
      "/Users/parul/opt/anaconda3/lib/python3.8/site-packages/pytorch_lightning/trainer/trainer.py:530: LightningDeprecationWarning: `trainer.fit(train_dataloader)` is deprecated in v1.4 and will be removed in v1.6. Use `trainer.fit(train_dataloaders)` instead. HINT: added 's'\n",
      "  rank_zero_deprecation(\n",
      "\n",
      "    | Name                                                                                      | Type                            | Params\n",
      "------------------------------------------------------------------------------------------------------------------------------------------------\n",
      "0   | loss                                                                                      | QuantileLoss                    | 0     \n",
      "1   | logging_metrics                                                                           | ModuleList                      | 0     \n",
      "2   | logging_metrics.0                                                                         | SMAPE                           | 0     \n",
      "3   | logging_metrics.1                                                                         | MAE                             | 0     \n",
      "4   | logging_metrics.2                                                                         | RMSE                            | 0     \n",
      "5   | logging_metrics.3                                                                         | MAPE                            | 0     \n",
      "6   | input_embeddings                                                                          | MultiEmbedding                  | 1.9 K \n",
      "7   | input_embeddings.embeddings                                                               | ModuleDict                      | 1.9 K \n",
      "8   | input_embeddings.embeddings.SCRUB_ITEM                                                    | Embedding                       | 1.9 K \n",
      "9   | prescalers                                                                                | ModuleDict                      | 360   \n",
      "10  | prescalers.encoder_length                                                                 | Linear                          | 40    \n",
      "11  | prescalers.trend_center                                                                   | Linear                          | 40    \n",
      "12  | prescalers.trend_scale                                                                    | Linear                          | 40    \n",
      "13  | prescalers.year                                                                           | Linear                          | 40    \n",
      "14  | prescalers.weekday                                                                        | Linear                          | 40    \n",
      "15  | prescalers.sin365                                                                         | Linear                          | 40    \n",
      "16  | prescalers.cos365                                                                         | Linear                          | 40    \n",
      "17  | prescalers.relative_time_idx                                                              | Linear                          | 40    \n",
      "18  | prescalers.trend                                                                          | Linear                          | 40    \n",
      "19  | static_variable_selection                                                                 | VariableSelectionNetwork        | 5.7 K \n",
      "20  | static_variable_selection.flattened_grn                                                   | GatedResidualNetwork            | 404   \n",
      "21  | static_variable_selection.flattened_grn.resample_norm                                     | ResampleNorm                    | 12    \n",
      "22  | static_variable_selection.flattened_grn.resample_norm.resample                            | TimeDistributedInterpolation    | 0     \n",
      "23  | static_variable_selection.flattened_grn.resample_norm.gate                                | Sigmoid                         | 0     \n",
      "24  | static_variable_selection.flattened_grn.resample_norm.norm                                | LayerNorm                       | 8     \n",
      "25  | static_variable_selection.flattened_grn.fc1                                               | Linear                          | 324   \n",
      "26  | static_variable_selection.flattened_grn.elu                                               | ELU                             | 0     \n",
      "27  | static_variable_selection.flattened_grn.fc2                                               | Linear                          | 20    \n",
      "28  | static_variable_selection.flattened_grn.gate_norm                                         | GateAddNorm                     | 48    \n",
      "29  | static_variable_selection.flattened_grn.gate_norm.glu                                     | GatedLinearUnit                 | 40    \n",
      "30  | static_variable_selection.flattened_grn.gate_norm.glu.dropout                             | Dropout                         | 0     \n",
      "31  | static_variable_selection.flattened_grn.gate_norm.glu.fc                                  | Linear                          | 40    \n",
      "32  | static_variable_selection.flattened_grn.gate_norm.add_norm                                | AddNorm                         | 8     \n",
      "33  | static_variable_selection.flattened_grn.gate_norm.add_norm.norm                           | LayerNorm                       | 8     \n",
      "34  | static_variable_selection.single_variable_grns                                            | ModuleDict                      | 5.2 K \n",
      "35  | static_variable_selection.single_variable_grns.SCRUB_ITEM                                 | ResampleNorm                    | 60    \n",
      "36  | static_variable_selection.single_variable_grns.SCRUB_ITEM.gate                            | Sigmoid                         | 0     \n",
      "37  | static_variable_selection.single_variable_grns.SCRUB_ITEM.norm                            | LayerNorm                       | 40    \n",
      "38  | static_variable_selection.single_variable_grns.encoder_length                             | GatedResidualNetwork            | 1.7 K \n",
      "39  | static_variable_selection.single_variable_grns.encoder_length.fc1                         | Linear                          | 420   \n",
      "40  | static_variable_selection.single_variable_grns.encoder_length.elu                         | ELU                             | 0     \n",
      "41  | static_variable_selection.single_variable_grns.encoder_length.fc2                         | Linear                          | 420   \n",
      "42  | static_variable_selection.single_variable_grns.encoder_length.gate_norm                   | GateAddNorm                     | 880   \n",
      "43  | static_variable_selection.single_variable_grns.encoder_length.gate_norm.glu               | GatedLinearUnit                 | 840   \n",
      "44  | static_variable_selection.single_variable_grns.encoder_length.gate_norm.glu.dropout       | Dropout                         | 0     \n",
      "45  | static_variable_selection.single_variable_grns.encoder_length.gate_norm.glu.fc            | Linear                          | 840   \n",
      "46  | static_variable_selection.single_variable_grns.encoder_length.gate_norm.add_norm          | AddNorm                         | 40    \n",
      "47  | static_variable_selection.single_variable_grns.encoder_length.gate_norm.add_norm.norm     | LayerNorm                       | 40    \n",
      "48  | static_variable_selection.single_variable_grns.trend_center                               | GatedResidualNetwork            | 1.7 K \n",
      "49  | static_variable_selection.single_variable_grns.trend_center.fc1                           | Linear                          | 420   \n",
      "50  | static_variable_selection.single_variable_grns.trend_center.elu                           | ELU                             | 0     \n",
      "51  | static_variable_selection.single_variable_grns.trend_center.fc2                           | Linear                          | 420   \n",
      "52  | static_variable_selection.single_variable_grns.trend_center.gate_norm                     | GateAddNorm                     | 880   \n",
      "53  | static_variable_selection.single_variable_grns.trend_center.gate_norm.glu                 | GatedLinearUnit                 | 840   \n",
      "54  | static_variable_selection.single_variable_grns.trend_center.gate_norm.glu.dropout         | Dropout                         | 0     \n",
      "55  | static_variable_selection.single_variable_grns.trend_center.gate_norm.glu.fc              | Linear                          | 840   \n",
      "56  | static_variable_selection.single_variable_grns.trend_center.gate_norm.add_norm            | AddNorm                         | 40    \n",
      "57  | static_variable_selection.single_variable_grns.trend_center.gate_norm.add_norm.norm       | LayerNorm                       | 40    \n",
      "58  | static_variable_selection.single_variable_grns.trend_scale                                | GatedResidualNetwork            | 1.7 K \n",
      "59  | static_variable_selection.single_variable_grns.trend_scale.fc1                            | Linear                          | 420   \n",
      "60  | static_variable_selection.single_variable_grns.trend_scale.elu                            | ELU                             | 0     \n",
      "61  | static_variable_selection.single_variable_grns.trend_scale.fc2                            | Linear                          | 420   \n",
      "62  | static_variable_selection.single_variable_grns.trend_scale.gate_norm                      | GateAddNorm                     | 880   \n",
      "63  | static_variable_selection.single_variable_grns.trend_scale.gate_norm.glu                  | GatedLinearUnit                 | 840   \n",
      "64  | static_variable_selection.single_variable_grns.trend_scale.gate_norm.glu.dropout          | Dropout                         | 0     \n",
      "65  | static_variable_selection.single_variable_grns.trend_scale.gate_norm.glu.fc               | Linear                          | 840   \n",
      "66  | static_variable_selection.single_variable_grns.trend_scale.gate_norm.add_norm             | AddNorm                         | 40    \n",
      "67  | static_variable_selection.single_variable_grns.trend_scale.gate_norm.add_norm.norm        | LayerNorm                       | 40    \n",
      "68  | static_variable_selection.prescalers                                                      | ModuleDict                      | 120   \n",
      "69  | static_variable_selection.softmax                                                         | Softmax                         | 0     \n",
      "70  | encoder_variable_selection                                                                | VariableSelectionNetwork        | 11.6 K\n",
      "71  | encoder_variable_selection.flattened_grn                                                  | GatedResidualNetwork            | 1.0 K \n",
      "72  | encoder_variable_selection.flattened_grn.resample_norm                                    | ResampleNorm                    | 18    \n",
      "73  | encoder_variable_selection.flattened_grn.resample_norm.resample                           | TimeDistributedInterpolation    | 0     \n",
      "74  | encoder_variable_selection.flattened_grn.resample_norm.gate                               | Sigmoid                         | 0     \n",
      "75  | encoder_variable_selection.flattened_grn.resample_norm.norm                               | LayerNorm                       | 12    \n",
      "76  | encoder_variable_selection.flattened_grn.fc1                                              | Linear                          | 726   \n",
      "77  | encoder_variable_selection.flattened_grn.elu                                              | ELU                             | 0     \n",
      "78  | encoder_variable_selection.flattened_grn.context                                          | Linear                          | 120   \n",
      "79  | encoder_variable_selection.flattened_grn.fc2                                              | Linear                          | 42    \n",
      "80  | encoder_variable_selection.flattened_grn.gate_norm                                        | GateAddNorm                     | 96    \n",
      "81  | encoder_variable_selection.flattened_grn.gate_norm.glu                                    | GatedLinearUnit                 | 84    \n",
      "82  | encoder_variable_selection.flattened_grn.gate_norm.glu.dropout                            | Dropout                         | 0     \n",
      "83  | encoder_variable_selection.flattened_grn.gate_norm.glu.fc                                 | Linear                          | 84    \n",
      "84  | encoder_variable_selection.flattened_grn.gate_norm.add_norm                               | AddNorm                         | 12    \n",
      "85  | encoder_variable_selection.flattened_grn.gate_norm.add_norm.norm                          | LayerNorm                       | 12    \n",
      "86  | encoder_variable_selection.single_variable_grns                                           | ModuleDict                      | 10.3 K\n",
      "87  | encoder_variable_selection.single_variable_grns.year                                      | GatedResidualNetwork            | 1.7 K \n",
      "88  | encoder_variable_selection.single_variable_grns.year.fc1                                  | Linear                          | 420   \n",
      "89  | encoder_variable_selection.single_variable_grns.year.elu                                  | ELU                             | 0     \n",
      "90  | encoder_variable_selection.single_variable_grns.year.fc2                                  | Linear                          | 420   \n",
      "91  | encoder_variable_selection.single_variable_grns.year.gate_norm                            | GateAddNorm                     | 880   \n",
      "92  | encoder_variable_selection.single_variable_grns.year.gate_norm.glu                        | GatedLinearUnit                 | 840   \n",
      "93  | encoder_variable_selection.single_variable_grns.year.gate_norm.glu.dropout                | Dropout                         | 0     \n",
      "94  | encoder_variable_selection.single_variable_grns.year.gate_norm.glu.fc                     | Linear                          | 840   \n",
      "95  | encoder_variable_selection.single_variable_grns.year.gate_norm.add_norm                   | AddNorm                         | 40    \n",
      "96  | encoder_variable_selection.single_variable_grns.year.gate_norm.add_norm.norm              | LayerNorm                       | 40    \n",
      "97  | encoder_variable_selection.single_variable_grns.weekday                                   | GatedResidualNetwork            | 1.7 K \n",
      "98  | encoder_variable_selection.single_variable_grns.weekday.fc1                               | Linear                          | 420   \n",
      "99  | encoder_variable_selection.single_variable_grns.weekday.elu                               | ELU                             | 0     \n",
      "100 | encoder_variable_selection.single_variable_grns.weekday.fc2                               | Linear                          | 420   \n",
      "101 | encoder_variable_selection.single_variable_grns.weekday.gate_norm                         | GateAddNorm                     | 880   \n",
      "102 | encoder_variable_selection.single_variable_grns.weekday.gate_norm.glu                     | GatedLinearUnit                 | 840   \n",
      "103 | encoder_variable_selection.single_variable_grns.weekday.gate_norm.glu.dropout             | Dropout                         | 0     \n",
      "104 | encoder_variable_selection.single_variable_grns.weekday.gate_norm.glu.fc                  | Linear                          | 840   \n",
      "105 | encoder_variable_selection.single_variable_grns.weekday.gate_norm.add_norm                | AddNorm                         | 40    \n",
      "106 | encoder_variable_selection.single_variable_grns.weekday.gate_norm.add_norm.norm           | LayerNorm                       | 40    \n",
      "107 | encoder_variable_selection.single_variable_grns.sin365                                    | GatedResidualNetwork            | 1.7 K \n",
      "108 | encoder_variable_selection.single_variable_grns.sin365.fc1                                | Linear                          | 420   \n",
      "109 | encoder_variable_selection.single_variable_grns.sin365.elu                                | ELU                             | 0     \n",
      "110 | encoder_variable_selection.single_variable_grns.sin365.fc2                                | Linear                          | 420   \n",
      "111 | encoder_variable_selection.single_variable_grns.sin365.gate_norm                          | GateAddNorm                     | 880   \n",
      "112 | encoder_variable_selection.single_variable_grns.sin365.gate_norm.glu                      | GatedLinearUnit                 | 840   \n",
      "113 | encoder_variable_selection.single_variable_grns.sin365.gate_norm.glu.dropout              | Dropout                         | 0     \n",
      "114 | encoder_variable_selection.single_variable_grns.sin365.gate_norm.glu.fc                   | Linear                          | 840   \n",
      "115 | encoder_variable_selection.single_variable_grns.sin365.gate_norm.add_norm                 | AddNorm                         | 40    \n",
      "116 | encoder_variable_selection.single_variable_grns.sin365.gate_norm.add_norm.norm            | LayerNorm                       | 40    \n",
      "117 | encoder_variable_selection.single_variable_grns.cos365                                    | GatedResidualNetwork            | 1.7 K \n",
      "118 | encoder_variable_selection.single_variable_grns.cos365.fc1                                | Linear                          | 420   \n",
      "119 | encoder_variable_selection.single_variable_grns.cos365.elu                                | ELU                             | 0     \n",
      "120 | encoder_variable_selection.single_variable_grns.cos365.fc2                                | Linear                          | 420   \n",
      "121 | encoder_variable_selection.single_variable_grns.cos365.gate_norm                          | GateAddNorm                     | 880   \n",
      "122 | encoder_variable_selection.single_variable_grns.cos365.gate_norm.glu                      | GatedLinearUnit                 | 840   \n",
      "123 | encoder_variable_selection.single_variable_grns.cos365.gate_norm.glu.dropout              | Dropout                         | 0     \n",
      "124 | encoder_variable_selection.single_variable_grns.cos365.gate_norm.glu.fc                   | Linear                          | 840   \n",
      "125 | encoder_variable_selection.single_variable_grns.cos365.gate_norm.add_norm                 | AddNorm                         | 40    \n",
      "126 | encoder_variable_selection.single_variable_grns.cos365.gate_norm.add_norm.norm            | LayerNorm                       | 40    \n",
      "127 | encoder_variable_selection.single_variable_grns.relative_time_idx                         | GatedResidualNetwork            | 1.7 K \n",
      "128 | encoder_variable_selection.single_variable_grns.relative_time_idx.fc1                     | Linear                          | 420   \n",
      "129 | encoder_variable_selection.single_variable_grns.relative_time_idx.elu                     | ELU                             | 0     \n",
      "130 | encoder_variable_selection.single_variable_grns.relative_time_idx.fc2                     | Linear                          | 420   \n",
      "131 | encoder_variable_selection.single_variable_grns.relative_time_idx.gate_norm               | GateAddNorm                     | 880   \n",
      "132 | encoder_variable_selection.single_variable_grns.relative_time_idx.gate_norm.glu           | GatedLinearUnit                 | 840   \n",
      "133 | encoder_variable_selection.single_variable_grns.relative_time_idx.gate_norm.glu.dropout   | Dropout                         | 0     \n",
      "134 | encoder_variable_selection.single_variable_grns.relative_time_idx.gate_norm.glu.fc        | Linear                          | 840   \n",
      "135 | encoder_variable_selection.single_variable_grns.relative_time_idx.gate_norm.add_norm      | AddNorm                         | 40    \n",
      "136 | encoder_variable_selection.single_variable_grns.relative_time_idx.gate_norm.add_norm.norm | LayerNorm                       | 40    \n",
      "137 | encoder_variable_selection.single_variable_grns.trend                                     | GatedResidualNetwork            | 1.7 K \n",
      "138 | encoder_variable_selection.single_variable_grns.trend.fc1                                 | Linear                          | 420   \n",
      "139 | encoder_variable_selection.single_variable_grns.trend.elu                                 | ELU                             | 0     \n",
      "140 | encoder_variable_selection.single_variable_grns.trend.fc2                                 | Linear                          | 420   \n",
      "141 | encoder_variable_selection.single_variable_grns.trend.gate_norm                           | GateAddNorm                     | 880   \n",
      "142 | encoder_variable_selection.single_variable_grns.trend.gate_norm.glu                       | GatedLinearUnit                 | 840   \n",
      "143 | encoder_variable_selection.single_variable_grns.trend.gate_norm.glu.dropout               | Dropout                         | 0     \n",
      "144 | encoder_variable_selection.single_variable_grns.trend.gate_norm.glu.fc                    | Linear                          | 840   \n",
      "145 | encoder_variable_selection.single_variable_grns.trend.gate_norm.add_norm                  | AddNorm                         | 40    \n",
      "146 | encoder_variable_selection.single_variable_grns.trend.gate_norm.add_norm.norm             | LayerNorm                       | 40    \n",
      "147 | encoder_variable_selection.prescalers                                                     | ModuleDict                      | 240   \n",
      "148 | encoder_variable_selection.softmax                                                        | Softmax                         | 0     \n",
      "149 | decoder_variable_selection                                                                | VariableSelectionNetwork        | 9.5 K \n",
      "150 | decoder_variable_selection.flattened_grn                                                  | GatedResidualNetwork            | 720   \n",
      "151 | decoder_variable_selection.flattened_grn.resample_norm                                    | ResampleNorm                    | 15    \n",
      "152 | decoder_variable_selection.flattened_grn.resample_norm.resample                           | TimeDistributedInterpolation    | 0     \n",
      "153 | decoder_variable_selection.flattened_grn.resample_norm.gate                               | Sigmoid                         | 0     \n",
      "154 | decoder_variable_selection.flattened_grn.resample_norm.norm                               | LayerNorm                       | 10    \n",
      "155 | decoder_variable_selection.flattened_grn.fc1                                              | Linear                          | 505   \n",
      "156 | decoder_variable_selection.flattened_grn.elu                                              | ELU                             | 0     \n",
      "157 | decoder_variable_selection.flattened_grn.context                                          | Linear                          | 100   \n",
      "158 | decoder_variable_selection.flattened_grn.fc2                                              | Linear                          | 30    \n",
      "159 | decoder_variable_selection.flattened_grn.gate_norm                                        | GateAddNorm                     | 70    \n",
      "160 | decoder_variable_selection.flattened_grn.gate_norm.glu                                    | GatedLinearUnit                 | 60    \n",
      "161 | decoder_variable_selection.flattened_grn.gate_norm.glu.dropout                            | Dropout                         | 0     \n",
      "162 | decoder_variable_selection.flattened_grn.gate_norm.glu.fc                                 | Linear                          | 60    \n",
      "163 | decoder_variable_selection.flattened_grn.gate_norm.add_norm                               | AddNorm                         | 10    \n",
      "164 | decoder_variable_selection.flattened_grn.gate_norm.add_norm.norm                          | LayerNorm                       | 10    \n",
      "165 | decoder_variable_selection.single_variable_grns                                           | ModuleDict                      | 8.6 K \n",
      "166 | decoder_variable_selection.single_variable_grns.year                                      | GatedResidualNetwork            | 1.7 K \n",
      "167 | decoder_variable_selection.single_variable_grns.year.fc1                                  | Linear                          | 420   \n",
      "168 | decoder_variable_selection.single_variable_grns.year.elu                                  | ELU                             | 0     \n",
      "169 | decoder_variable_selection.single_variable_grns.year.fc2                                  | Linear                          | 420   \n",
      "170 | decoder_variable_selection.single_variable_grns.year.gate_norm                            | GateAddNorm                     | 880   \n",
      "171 | decoder_variable_selection.single_variable_grns.year.gate_norm.glu                        | GatedLinearUnit                 | 840   \n",
      "172 | decoder_variable_selection.single_variable_grns.year.gate_norm.glu.dropout                | Dropout                         | 0     \n",
      "173 | decoder_variable_selection.single_variable_grns.year.gate_norm.glu.fc                     | Linear                          | 840   \n",
      "174 | decoder_variable_selection.single_variable_grns.year.gate_norm.add_norm                   | AddNorm                         | 40    \n",
      "175 | decoder_variable_selection.single_variable_grns.year.gate_norm.add_norm.norm              | LayerNorm                       | 40    \n",
      "176 | decoder_variable_selection.single_variable_grns.weekday                                   | GatedResidualNetwork            | 1.7 K \n",
      "177 | decoder_variable_selection.single_variable_grns.weekday.fc1                               | Linear                          | 420   \n",
      "178 | decoder_variable_selection.single_variable_grns.weekday.elu                               | ELU                             | 0     \n",
      "179 | decoder_variable_selection.single_variable_grns.weekday.fc2                               | Linear                          | 420   \n",
      "180 | decoder_variable_selection.single_variable_grns.weekday.gate_norm                         | GateAddNorm                     | 880   \n",
      "181 | decoder_variable_selection.single_variable_grns.weekday.gate_norm.glu                     | GatedLinearUnit                 | 840   \n",
      "182 | decoder_variable_selection.single_variable_grns.weekday.gate_norm.glu.dropout             | Dropout                         | 0     \n",
      "183 | decoder_variable_selection.single_variable_grns.weekday.gate_norm.glu.fc                  | Linear                          | 840   \n",
      "184 | decoder_variable_selection.single_variable_grns.weekday.gate_norm.add_norm                | AddNorm                         | 40    \n",
      "185 | decoder_variable_selection.single_variable_grns.weekday.gate_norm.add_norm.norm           | LayerNorm                       | 40    \n",
      "186 | decoder_variable_selection.single_variable_grns.sin365                                    | GatedResidualNetwork            | 1.7 K \n",
      "187 | decoder_variable_selection.single_variable_grns.sin365.fc1                                | Linear                          | 420   \n",
      "188 | decoder_variable_selection.single_variable_grns.sin365.elu                                | ELU                             | 0     \n",
      "189 | decoder_variable_selection.single_variable_grns.sin365.fc2                                | Linear                          | 420   \n",
      "190 | decoder_variable_selection.single_variable_grns.sin365.gate_norm                          | GateAddNorm                     | 880   \n",
      "191 | decoder_variable_selection.single_variable_grns.sin365.gate_norm.glu                      | GatedLinearUnit                 | 840   \n",
      "192 | decoder_variable_selection.single_variable_grns.sin365.gate_norm.glu.dropout              | Dropout                         | 0     \n",
      "193 | decoder_variable_selection.single_variable_grns.sin365.gate_norm.glu.fc                   | Linear                          | 840   \n",
      "194 | decoder_variable_selection.single_variable_grns.sin365.gate_norm.add_norm                 | AddNorm                         | 40    \n",
      "195 | decoder_variable_selection.single_variable_grns.sin365.gate_norm.add_norm.norm            | LayerNorm                       | 40    \n",
      "196 | decoder_variable_selection.single_variable_grns.cos365                                    | GatedResidualNetwork            | 1.7 K \n",
      "197 | decoder_variable_selection.single_variable_grns.cos365.fc1                                | Linear                          | 420   \n",
      "198 | decoder_variable_selection.single_variable_grns.cos365.elu                                | ELU                             | 0     \n",
      "199 | decoder_variable_selection.single_variable_grns.cos365.fc2                                | Linear                          | 420   \n",
      "200 | decoder_variable_selection.single_variable_grns.cos365.gate_norm                          | GateAddNorm                     | 880   \n",
      "201 | decoder_variable_selection.single_variable_grns.cos365.gate_norm.glu                      | GatedLinearUnit                 | 840   \n",
      "202 | decoder_variable_selection.single_variable_grns.cos365.gate_norm.glu.dropout              | Dropout                         | 0     \n",
      "203 | decoder_variable_selection.single_variable_grns.cos365.gate_norm.glu.fc                   | Linear                          | 840   \n",
      "204 | decoder_variable_selection.single_variable_grns.cos365.gate_norm.add_norm                 | AddNorm                         | 40    \n",
      "205 | decoder_variable_selection.single_variable_grns.cos365.gate_norm.add_norm.norm            | LayerNorm                       | 40    \n",
      "206 | decoder_variable_selection.single_variable_grns.relative_time_idx                         | GatedResidualNetwork            | 1.7 K \n",
      "207 | decoder_variable_selection.single_variable_grns.relative_time_idx.fc1                     | Linear                          | 420   \n",
      "208 | decoder_variable_selection.single_variable_grns.relative_time_idx.elu                     | ELU                             | 0     \n",
      "209 | decoder_variable_selection.single_variable_grns.relative_time_idx.fc2                     | Linear                          | 420   \n",
      "210 | decoder_variable_selection.single_variable_grns.relative_time_idx.gate_norm               | GateAddNorm                     | 880   \n",
      "211 | decoder_variable_selection.single_variable_grns.relative_time_idx.gate_norm.glu           | GatedLinearUnit                 | 840   \n",
      "212 | decoder_variable_selection.single_variable_grns.relative_time_idx.gate_norm.glu.dropout   | Dropout                         | 0     \n",
      "213 | decoder_variable_selection.single_variable_grns.relative_time_idx.gate_norm.glu.fc        | Linear                          | 840   \n",
      "214 | decoder_variable_selection.single_variable_grns.relative_time_idx.gate_norm.add_norm      | AddNorm                         | 40    \n",
      "215 | decoder_variable_selection.single_variable_grns.relative_time_idx.gate_norm.add_norm.norm | LayerNorm                       | 40    \n",
      "216 | decoder_variable_selection.prescalers                                                     | ModuleDict                      | 200   \n",
      "217 | decoder_variable_selection.softmax                                                        | Softmax                         | 0     \n",
      "218 | static_context_variable_selection                                                         | GatedResidualNetwork            | 1.7 K \n",
      "219 | static_context_variable_selection.fc1                                                     | Linear                          | 420   \n",
      "220 | static_context_variable_selection.elu                                                     | ELU                             | 0     \n",
      "221 | static_context_variable_selection.fc2                                                     | Linear                          | 420   \n",
      "222 | static_context_variable_selection.gate_norm                                               | GateAddNorm                     | 880   \n",
      "223 | static_context_variable_selection.gate_norm.glu                                           | GatedLinearUnit                 | 840   \n",
      "224 | static_context_variable_selection.gate_norm.glu.dropout                                   | Dropout                         | 0     \n",
      "225 | static_context_variable_selection.gate_norm.glu.fc                                        | Linear                          | 840   \n",
      "226 | static_context_variable_selection.gate_norm.add_norm                                      | AddNorm                         | 40    \n",
      "227 | static_context_variable_selection.gate_norm.add_norm.norm                                 | LayerNorm                       | 40    \n",
      "228 | static_context_initial_hidden_lstm                                                        | GatedResidualNetwork            | 1.7 K \n",
      "229 | static_context_initial_hidden_lstm.fc1                                                    | Linear                          | 420   \n",
      "230 | static_context_initial_hidden_lstm.elu                                                    | ELU                             | 0     \n",
      "231 | static_context_initial_hidden_lstm.fc2                                                    | Linear                          | 420   \n",
      "232 | static_context_initial_hidden_lstm.gate_norm                                              | GateAddNorm                     | 880   \n",
      "233 | static_context_initial_hidden_lstm.gate_norm.glu                                          | GatedLinearUnit                 | 840   \n",
      "234 | static_context_initial_hidden_lstm.gate_norm.glu.dropout                                  | Dropout                         | 0     \n",
      "235 | static_context_initial_hidden_lstm.gate_norm.glu.fc                                       | Linear                          | 840   \n",
      "236 | static_context_initial_hidden_lstm.gate_norm.add_norm                                     | AddNorm                         | 40    \n",
      "237 | static_context_initial_hidden_lstm.gate_norm.add_norm.norm                                | LayerNorm                       | 40    \n",
      "238 | static_context_initial_cell_lstm                                                          | GatedResidualNetwork            | 1.7 K \n",
      "239 | static_context_initial_cell_lstm.fc1                                                      | Linear                          | 420   \n",
      "240 | static_context_initial_cell_lstm.elu                                                      | ELU                             | 0     \n",
      "241 | static_context_initial_cell_lstm.fc2                                                      | Linear                          | 420   \n",
      "242 | static_context_initial_cell_lstm.gate_norm                                                | GateAddNorm                     | 880   \n",
      "243 | static_context_initial_cell_lstm.gate_norm.glu                                            | GatedLinearUnit                 | 840   \n",
      "244 | static_context_initial_cell_lstm.gate_norm.glu.dropout                                    | Dropout                         | 0     \n",
      "245 | static_context_initial_cell_lstm.gate_norm.glu.fc                                         | Linear                          | 840   \n",
      "246 | static_context_initial_cell_lstm.gate_norm.add_norm                                       | AddNorm                         | 40    \n",
      "247 | static_context_initial_cell_lstm.gate_norm.add_norm.norm                                  | LayerNorm                       | 40    \n",
      "248 | static_context_enrichment                                                                 | GatedResidualNetwork            | 1.7 K \n",
      "249 | static_context_enrichment.fc1                                                             | Linear                          | 420   \n",
      "250 | static_context_enrichment.elu                                                             | ELU                             | 0     \n",
      "251 | static_context_enrichment.fc2                                                             | Linear                          | 420   \n",
      "252 | static_context_enrichment.gate_norm                                                       | GateAddNorm                     | 880   \n",
      "253 | static_context_enrichment.gate_norm.glu                                                   | GatedLinearUnit                 | 840   \n",
      "254 | static_context_enrichment.gate_norm.glu.dropout                                           | Dropout                         | 0     \n",
      "255 | static_context_enrichment.gate_norm.glu.fc                                                | Linear                          | 840   \n",
      "256 | static_context_enrichment.gate_norm.add_norm                                              | AddNorm                         | 40    \n",
      "257 | static_context_enrichment.gate_norm.add_norm.norm                                         | LayerNorm                       | 40    \n",
      "258 | lstm_encoder                                                                              | LSTM                            | 3.4 K \n",
      "259 | lstm_decoder                                                                              | LSTM                            | 3.4 K \n",
      "260 | post_lstm_gate_encoder                                                                    | GatedLinearUnit                 | 840   \n",
      "261 | post_lstm_gate_encoder.dropout                                                            | Dropout                         | 0     \n",
      "262 | post_lstm_gate_encoder.fc                                                                 | Linear                          | 840   \n",
      "263 | post_lstm_add_norm_encoder                                                                | AddNorm                         | 40    \n",
      "264 | post_lstm_add_norm_encoder.norm                                                           | LayerNorm                       | 40    \n",
      "265 | static_enrichment                                                                         | GatedResidualNetwork            | 2.1 K \n",
      "266 | static_enrichment.fc1                                                                     | Linear                          | 420   \n",
      "267 | static_enrichment.elu                                                                     | ELU                             | 0     \n",
      "268 | static_enrichment.context                                                                 | Linear                          | 400   \n",
      "269 | static_enrichment.fc2                                                                     | Linear                          | 420   \n",
      "270 | static_enrichment.gate_norm                                                               | GateAddNorm                     | 880   \n",
      "271 | static_enrichment.gate_norm.glu                                                           | GatedLinearUnit                 | 840   \n",
      "272 | static_enrichment.gate_norm.glu.dropout                                                   | Dropout                         | 0     \n",
      "273 | static_enrichment.gate_norm.glu.fc                                                        | Linear                          | 840   \n",
      "274 | static_enrichment.gate_norm.add_norm                                                      | AddNorm                         | 40    \n",
      "275 | static_enrichment.gate_norm.add_norm.norm                                                 | LayerNorm                       | 40    \n",
      "276 | multihead_attn                                                                            | InterpretableMultiHeadAttention | 1.7 K \n",
      "277 | multihead_attn.dropout                                                                    | Dropout                         | 0     \n",
      "278 | multihead_attn.v_layer                                                                    | Linear                          | 420   \n",
      "279 | multihead_attn.q_layers                                                                   | ModuleList                      | 420   \n",
      "280 | multihead_attn.q_layers.0                                                                 | Linear                          | 420   \n",
      "281 | multihead_attn.k_layers                                                                   | ModuleList                      | 420   \n",
      "282 | multihead_attn.k_layers.0                                                                 | Linear                          | 420   \n",
      "283 | multihead_attn.attention                                                                  | ScaledDotProductAttention       | 0     \n",
      "284 | multihead_attn.attention.softmax                                                          | Softmax                         | 0     \n",
      "285 | multihead_attn.w_h                                                                        | Linear                          | 400   \n",
      "286 | post_attn_gate_norm                                                                       | GateAddNorm                     | 880   \n",
      "287 | post_attn_gate_norm.glu                                                                   | GatedLinearUnit                 | 840   \n",
      "288 | post_attn_gate_norm.glu.dropout                                                           | Dropout                         | 0     \n",
      "289 | post_attn_gate_norm.glu.fc                                                                | Linear                          | 840   \n",
      "290 | post_attn_gate_norm.add_norm                                                              | AddNorm                         | 40    \n",
      "291 | post_attn_gate_norm.add_norm.norm                                                         | LayerNorm                       | 40    \n",
      "292 | pos_wise_ff                                                                               | GatedResidualNetwork            | 1.7 K \n",
      "293 | pos_wise_ff.fc1                                                                           | Linear                          | 420   \n",
      "294 | pos_wise_ff.elu                                                                           | ELU                             | 0     \n",
      "295 | pos_wise_ff.fc2                                                                           | Linear                          | 420   \n",
      "296 | pos_wise_ff.gate_norm                                                                     | GateAddNorm                     | 880   \n",
      "297 | pos_wise_ff.gate_norm.glu                                                                 | GatedLinearUnit                 | 840   \n",
      "298 | pos_wise_ff.gate_norm.glu.dropout                                                         | Dropout                         | 0     \n",
      "299 | pos_wise_ff.gate_norm.glu.fc                                                              | Linear                          | 840   \n",
      "300 | pos_wise_ff.gate_norm.add_norm                                                            | AddNorm                         | 40    \n",
      "301 | pos_wise_ff.gate_norm.add_norm.norm                                                       | LayerNorm                       | 40    \n",
      "302 | pre_output_gate_norm                                                                      | GateAddNorm                     | 880   \n",
      "303 | pre_output_gate_norm.glu                                                                  | GatedLinearUnit                 | 840   \n",
      "304 | pre_output_gate_norm.glu.fc                                                               | Linear                          | 840   \n",
      "305 | pre_output_gate_norm.add_norm                                                             | AddNorm                         | 40    \n",
      "306 | pre_output_gate_norm.add_norm.norm                                                        | LayerNorm                       | 40    \n",
      "307 | output_layer                                                                              | Linear                          | 147   \n",
      "------------------------------------------------------------------------------------------------------------------------------------------------\n",
      "50.5 K    Trainable params\n",
      "0         Non-trainable params\n",
      "50.5 K    Total params\n",
      "0.202     Total estimated model params size (MB)\n"
     ]
    },
    {
     "data": {
      "application/vnd.jupyter.widget-view+json": {
       "model_id": "",
       "version_major": 2,
       "version_minor": 0
      },
      "text/plain": [
       "HBox(children=(HTML(value='Validation sanity check'), FloatProgress(value=1.0, bar_style='info', layout=Layout…"
      ]
     },
     "metadata": {},
     "output_type": "display_data"
    },
    {
     "data": {
      "application/vnd.jupyter.widget-view+json": {
       "model_id": "070a6f834a3f4e738490e0b1ccbf326b",
       "version_major": 2,
       "version_minor": 0
      },
      "text/plain": [
       "HBox(children=(HTML(value='Training'), FloatProgress(value=1.0, bar_style='info', layout=Layout(flex='2'), max…"
      ]
     },
     "metadata": {},
     "output_type": "display_data"
    },
    {
     "name": "stdout",
     "output_type": "stream",
     "text": [
      "\n"
     ]
    },
    {
     "data": {
      "application/vnd.jupyter.widget-view+json": {
       "model_id": "",
       "version_major": 2,
       "version_minor": 0
      },
      "text/plain": [
       "HBox(children=(HTML(value='Validating'), FloatProgress(value=1.0, bar_style='info', layout=Layout(flex='2'), m…"
      ]
     },
     "metadata": {},
     "output_type": "display_data"
    },
    {
     "data": {
      "application/vnd.jupyter.widget-view+json": {
       "model_id": "",
       "version_major": 2,
       "version_minor": 0
      },
      "text/plain": [
       "HBox(children=(HTML(value='Validating'), FloatProgress(value=1.0, bar_style='info', layout=Layout(flex='2'), m…"
      ]
     },
     "metadata": {},
     "output_type": "display_data"
    },
    {
     "data": {
      "application/vnd.jupyter.widget-view+json": {
       "model_id": "",
       "version_major": 2,
       "version_minor": 0
      },
      "text/plain": [
       "HBox(children=(HTML(value='Validating'), FloatProgress(value=1.0, bar_style='info', layout=Layout(flex='2'), m…"
      ]
     },
     "metadata": {},
     "output_type": "display_data"
    },
    {
     "data": {
      "application/vnd.jupyter.widget-view+json": {
       "model_id": "",
       "version_major": 2,
       "version_minor": 0
      },
      "text/plain": [
       "HBox(children=(HTML(value='Validating'), FloatProgress(value=1.0, bar_style='info', layout=Layout(flex='2'), m…"
      ]
     },
     "metadata": {},
     "output_type": "display_data"
    },
    {
     "data": {
      "application/vnd.jupyter.widget-view+json": {
       "model_id": "",
       "version_major": 2,
       "version_minor": 0
      },
      "text/plain": [
       "HBox(children=(HTML(value='Validating'), FloatProgress(value=1.0, bar_style='info', layout=Layout(flex='2'), m…"
      ]
     },
     "metadata": {},
     "output_type": "display_data"
    },
    {
     "data": {
      "application/vnd.jupyter.widget-view+json": {
       "model_id": "",
       "version_major": 2,
       "version_minor": 0
      },
      "text/plain": [
       "HBox(children=(HTML(value='Validating'), FloatProgress(value=1.0, bar_style='info', layout=Layout(flex='2'), m…"
      ]
     },
     "metadata": {},
     "output_type": "display_data"
    },
    {
     "data": {
      "application/vnd.jupyter.widget-view+json": {
       "model_id": "",
       "version_major": 2,
       "version_minor": 0
      },
      "text/plain": [
       "HBox(children=(HTML(value='Validating'), FloatProgress(value=1.0, bar_style='info', layout=Layout(flex='2'), m…"
      ]
     },
     "metadata": {},
     "output_type": "display_data"
    },
    {
     "data": {
      "application/vnd.jupyter.widget-view+json": {
       "model_id": "",
       "version_major": 2,
       "version_minor": 0
      },
      "text/plain": [
       "HBox(children=(HTML(value='Validating'), FloatProgress(value=1.0, bar_style='info', layout=Layout(flex='2'), m…"
      ]
     },
     "metadata": {},
     "output_type": "display_data"
    },
    {
     "data": {
      "application/vnd.jupyter.widget-view+json": {
       "model_id": "",
       "version_major": 2,
       "version_minor": 0
      },
      "text/plain": [
       "HBox(children=(HTML(value='Validating'), FloatProgress(value=1.0, bar_style='info', layout=Layout(flex='2'), m…"
      ]
     },
     "metadata": {},
     "output_type": "display_data"
    },
    {
     "data": {
      "application/vnd.jupyter.widget-view+json": {
       "model_id": "",
       "version_major": 2,
       "version_minor": 0
      },
      "text/plain": [
       "HBox(children=(HTML(value='Validating'), FloatProgress(value=1.0, bar_style='info', layout=Layout(flex='2'), m…"
      ]
     },
     "metadata": {},
     "output_type": "display_data"
    },
    {
     "data": {
      "application/vnd.jupyter.widget-view+json": {
       "model_id": "",
       "version_major": 2,
       "version_minor": 0
      },
      "text/plain": [
       "HBox(children=(HTML(value='Validating'), FloatProgress(value=1.0, bar_style='info', layout=Layout(flex='2'), m…"
      ]
     },
     "metadata": {},
     "output_type": "display_data"
    },
    {
     "data": {
      "application/vnd.jupyter.widget-view+json": {
       "model_id": "",
       "version_major": 2,
       "version_minor": 0
      },
      "text/plain": [
       "HBox(children=(HTML(value='Validating'), FloatProgress(value=1.0, bar_style='info', layout=Layout(flex='2'), m…"
      ]
     },
     "metadata": {},
     "output_type": "display_data"
    },
    {
     "data": {
      "application/vnd.jupyter.widget-view+json": {
       "model_id": "",
       "version_major": 2,
       "version_minor": 0
      },
      "text/plain": [
       "HBox(children=(HTML(value='Validating'), FloatProgress(value=1.0, bar_style='info', layout=Layout(flex='2'), m…"
      ]
     },
     "metadata": {},
     "output_type": "display_data"
    },
    {
     "data": {
      "application/vnd.jupyter.widget-view+json": {
       "model_id": "",
       "version_major": 2,
       "version_minor": 0
      },
      "text/plain": [
       "HBox(children=(HTML(value='Validating'), FloatProgress(value=1.0, bar_style='info', layout=Layout(flex='2'), m…"
      ]
     },
     "metadata": {},
     "output_type": "display_data"
    },
    {
     "data": {
      "application/vnd.jupyter.widget-view+json": {
       "model_id": "",
       "version_major": 2,
       "version_minor": 0
      },
      "text/plain": [
       "HBox(children=(HTML(value='Validating'), FloatProgress(value=1.0, bar_style='info', layout=Layout(flex='2'), m…"
      ]
     },
     "metadata": {},
     "output_type": "display_data"
    },
    {
     "data": {
      "application/vnd.jupyter.widget-view+json": {
       "model_id": "",
       "version_major": 2,
       "version_minor": 0
      },
      "text/plain": [
       "HBox(children=(HTML(value='Validating'), FloatProgress(value=1.0, bar_style='info', layout=Layout(flex='2'), m…"
      ]
     },
     "metadata": {},
     "output_type": "display_data"
    },
    {
     "data": {
      "application/vnd.jupyter.widget-view+json": {
       "model_id": "",
       "version_major": 2,
       "version_minor": 0
      },
      "text/plain": [
       "HBox(children=(HTML(value='Validating'), FloatProgress(value=1.0, bar_style='info', layout=Layout(flex='2'), m…"
      ]
     },
     "metadata": {},
     "output_type": "display_data"
    },
    {
     "data": {
      "application/vnd.jupyter.widget-view+json": {
       "model_id": "",
       "version_major": 2,
       "version_minor": 0
      },
      "text/plain": [
       "HBox(children=(HTML(value='Validating'), FloatProgress(value=1.0, bar_style='info', layout=Layout(flex='2'), m…"
      ]
     },
     "metadata": {},
     "output_type": "display_data"
    },
    {
     "data": {
      "application/vnd.jupyter.widget-view+json": {
       "model_id": "",
       "version_major": 2,
       "version_minor": 0
      },
      "text/plain": [
       "HBox(children=(HTML(value='Validating'), FloatProgress(value=1.0, bar_style='info', layout=Layout(flex='2'), m…"
      ]
     },
     "metadata": {},
     "output_type": "display_data"
    },
    {
     "data": {
      "application/vnd.jupyter.widget-view+json": {
       "model_id": "",
       "version_major": 2,
       "version_minor": 0
      },
      "text/plain": [
       "HBox(children=(HTML(value='Validating'), FloatProgress(value=1.0, bar_style='info', layout=Layout(flex='2'), m…"
      ]
     },
     "metadata": {},
     "output_type": "display_data"
    },
    {
     "data": {
      "application/vnd.jupyter.widget-view+json": {
       "model_id": "",
       "version_major": 2,
       "version_minor": 0
      },
      "text/plain": [
       "HBox(children=(HTML(value='Validating'), FloatProgress(value=1.0, bar_style='info', layout=Layout(flex='2'), m…"
      ]
     },
     "metadata": {},
     "output_type": "display_data"
    },
    {
     "data": {
      "application/vnd.jupyter.widget-view+json": {
       "model_id": "",
       "version_major": 2,
       "version_minor": 0
      },
      "text/plain": [
       "HBox(children=(HTML(value='Validating'), FloatProgress(value=1.0, bar_style='info', layout=Layout(flex='2'), m…"
      ]
     },
     "metadata": {},
     "output_type": "display_data"
    },
    {
     "data": {
      "application/vnd.jupyter.widget-view+json": {
       "model_id": "",
       "version_major": 2,
       "version_minor": 0
      },
      "text/plain": [
       "HBox(children=(HTML(value='Validating'), FloatProgress(value=1.0, bar_style='info', layout=Layout(flex='2'), m…"
      ]
     },
     "metadata": {},
     "output_type": "display_data"
    },
    {
     "data": {
      "application/vnd.jupyter.widget-view+json": {
       "model_id": "",
       "version_major": 2,
       "version_minor": 0
      },
      "text/plain": [
       "HBox(children=(HTML(value='Validating'), FloatProgress(value=1.0, bar_style='info', layout=Layout(flex='2'), m…"
      ]
     },
     "metadata": {},
     "output_type": "display_data"
    },
    {
     "data": {
      "application/vnd.jupyter.widget-view+json": {
       "model_id": "",
       "version_major": 2,
       "version_minor": 0
      },
      "text/plain": [
       "HBox(children=(HTML(value='Validating'), FloatProgress(value=1.0, bar_style='info', layout=Layout(flex='2'), m…"
      ]
     },
     "metadata": {},
     "output_type": "display_data"
    },
    {
     "data": {
      "application/vnd.jupyter.widget-view+json": {
       "model_id": "",
       "version_major": 2,
       "version_minor": 0
      },
      "text/plain": [
       "HBox(children=(HTML(value='Validating'), FloatProgress(value=1.0, bar_style='info', layout=Layout(flex='2'), m…"
      ]
     },
     "metadata": {},
     "output_type": "display_data"
    },
    {
     "data": {
      "application/vnd.jupyter.widget-view+json": {
       "model_id": "",
       "version_major": 2,
       "version_minor": 0
      },
      "text/plain": [
       "HBox(children=(HTML(value='Validating'), FloatProgress(value=1.0, bar_style='info', layout=Layout(flex='2'), m…"
      ]
     },
     "metadata": {},
     "output_type": "display_data"
    },
    {
     "data": {
      "application/vnd.jupyter.widget-view+json": {
       "model_id": "",
       "version_major": 2,
       "version_minor": 0
      },
      "text/plain": [
       "HBox(children=(HTML(value='Validating'), FloatProgress(value=1.0, bar_style='info', layout=Layout(flex='2'), m…"
      ]
     },
     "metadata": {},
     "output_type": "display_data"
    },
    {
     "data": {
      "application/vnd.jupyter.widget-view+json": {
       "model_id": "",
       "version_major": 2,
       "version_minor": 0
      },
      "text/plain": [
       "HBox(children=(HTML(value='Validating'), FloatProgress(value=1.0, bar_style='info', layout=Layout(flex='2'), m…"
      ]
     },
     "metadata": {},
     "output_type": "display_data"
    },
    {
     "data": {
      "application/vnd.jupyter.widget-view+json": {
       "model_id": "",
       "version_major": 2,
       "version_minor": 0
      },
      "text/plain": [
       "HBox(children=(HTML(value='Validating'), FloatProgress(value=1.0, bar_style='info', layout=Layout(flex='2'), m…"
      ]
     },
     "metadata": {},
     "output_type": "display_data"
    },
    {
     "data": {
      "application/vnd.jupyter.widget-view+json": {
       "model_id": "",
       "version_major": 2,
       "version_minor": 0
      },
      "text/plain": [
       "HBox(children=(HTML(value='Validating'), FloatProgress(value=1.0, bar_style='info', layout=Layout(flex='2'), m…"
      ]
     },
     "metadata": {},
     "output_type": "display_data"
    },
    {
     "data": {
      "application/vnd.jupyter.widget-view+json": {
       "model_id": "",
       "version_major": 2,
       "version_minor": 0
      },
      "text/plain": [
       "HBox(children=(HTML(value='Validating'), FloatProgress(value=1.0, bar_style='info', layout=Layout(flex='2'), m…"
      ]
     },
     "metadata": {},
     "output_type": "display_data"
    },
    {
     "data": {
      "application/vnd.jupyter.widget-view+json": {
       "model_id": "",
       "version_major": 2,
       "version_minor": 0
      },
      "text/plain": [
       "HBox(children=(HTML(value='Validating'), FloatProgress(value=1.0, bar_style='info', layout=Layout(flex='2'), m…"
      ]
     },
     "metadata": {},
     "output_type": "display_data"
    },
    {
     "data": {
      "application/vnd.jupyter.widget-view+json": {
       "model_id": "",
       "version_major": 2,
       "version_minor": 0
      },
      "text/plain": [
       "HBox(children=(HTML(value='Validating'), FloatProgress(value=1.0, bar_style='info', layout=Layout(flex='2'), m…"
      ]
     },
     "metadata": {},
     "output_type": "display_data"
    },
    {
     "data": {
      "application/vnd.jupyter.widget-view+json": {
       "model_id": "",
       "version_major": 2,
       "version_minor": 0
      },
      "text/plain": [
       "HBox(children=(HTML(value='Validating'), FloatProgress(value=1.0, bar_style='info', layout=Layout(flex='2'), m…"
      ]
     },
     "metadata": {},
     "output_type": "display_data"
    },
    {
     "data": {
      "application/vnd.jupyter.widget-view+json": {
       "model_id": "",
       "version_major": 2,
       "version_minor": 0
      },
      "text/plain": [
       "HBox(children=(HTML(value='Validating'), FloatProgress(value=1.0, bar_style='info', layout=Layout(flex='2'), m…"
      ]
     },
     "metadata": {},
     "output_type": "display_data"
    },
    {
     "data": {
      "application/vnd.jupyter.widget-view+json": {
       "model_id": "",
       "version_major": 2,
       "version_minor": 0
      },
      "text/plain": [
       "HBox(children=(HTML(value='Validating'), FloatProgress(value=1.0, bar_style='info', layout=Layout(flex='2'), m…"
      ]
     },
     "metadata": {},
     "output_type": "display_data"
    },
    {
     "data": {
      "application/vnd.jupyter.widget-view+json": {
       "model_id": "",
       "version_major": 2,
       "version_minor": 0
      },
      "text/plain": [
       "HBox(children=(HTML(value='Validating'), FloatProgress(value=1.0, bar_style='info', layout=Layout(flex='2'), m…"
      ]
     },
     "metadata": {},
     "output_type": "display_data"
    },
    {
     "data": {
      "application/vnd.jupyter.widget-view+json": {
       "model_id": "",
       "version_major": 2,
       "version_minor": 0
      },
      "text/plain": [
       "HBox(children=(HTML(value='Validating'), FloatProgress(value=1.0, bar_style='info', layout=Layout(flex='2'), m…"
      ]
     },
     "metadata": {},
     "output_type": "display_data"
    },
    {
     "data": {
      "application/vnd.jupyter.widget-view+json": {
       "model_id": "",
       "version_major": 2,
       "version_minor": 0
      },
      "text/plain": [
       "HBox(children=(HTML(value='Validating'), FloatProgress(value=1.0, bar_style='info', layout=Layout(flex='2'), m…"
      ]
     },
     "metadata": {},
     "output_type": "display_data"
    },
    {
     "data": {
      "application/vnd.jupyter.widget-view+json": {
       "model_id": "",
       "version_major": 2,
       "version_minor": 0
      },
      "text/plain": [
       "HBox(children=(HTML(value='Validating'), FloatProgress(value=1.0, bar_style='info', layout=Layout(flex='2'), m…"
      ]
     },
     "metadata": {},
     "output_type": "display_data"
    },
    {
     "data": {
      "application/vnd.jupyter.widget-view+json": {
       "model_id": "",
       "version_major": 2,
       "version_minor": 0
      },
      "text/plain": [
       "HBox(children=(HTML(value='Validating'), FloatProgress(value=1.0, bar_style='info', layout=Layout(flex='2'), m…"
      ]
     },
     "metadata": {},
     "output_type": "display_data"
    },
    {
     "data": {
      "application/vnd.jupyter.widget-view+json": {
       "model_id": "",
       "version_major": 2,
       "version_minor": 0
      },
      "text/plain": [
       "HBox(children=(HTML(value='Validating'), FloatProgress(value=1.0, bar_style='info', layout=Layout(flex='2'), m…"
      ]
     },
     "metadata": {},
     "output_type": "display_data"
    },
    {
     "data": {
      "application/vnd.jupyter.widget-view+json": {
       "model_id": "",
       "version_major": 2,
       "version_minor": 0
      },
      "text/plain": [
       "HBox(children=(HTML(value='Validating'), FloatProgress(value=1.0, bar_style='info', layout=Layout(flex='2'), m…"
      ]
     },
     "metadata": {},
     "output_type": "display_data"
    },
    {
     "data": {
      "application/vnd.jupyter.widget-view+json": {
       "model_id": "",
       "version_major": 2,
       "version_minor": 0
      },
      "text/plain": [
       "HBox(children=(HTML(value='Validating'), FloatProgress(value=1.0, bar_style='info', layout=Layout(flex='2'), m…"
      ]
     },
     "metadata": {},
     "output_type": "display_data"
    },
    {
     "data": {
      "application/vnd.jupyter.widget-view+json": {
       "model_id": "",
       "version_major": 2,
       "version_minor": 0
      },
      "text/plain": [
       "HBox(children=(HTML(value='Validating'), FloatProgress(value=1.0, bar_style='info', layout=Layout(flex='2'), m…"
      ]
     },
     "metadata": {},
     "output_type": "display_data"
    },
    {
     "data": {
      "application/vnd.jupyter.widget-view+json": {
       "model_id": "",
       "version_major": 2,
       "version_minor": 0
      },
      "text/plain": [
       "HBox(children=(HTML(value='Validating'), FloatProgress(value=1.0, bar_style='info', layout=Layout(flex='2'), m…"
      ]
     },
     "metadata": {},
     "output_type": "display_data"
    },
    {
     "data": {
      "application/vnd.jupyter.widget-view+json": {
       "model_id": "",
       "version_major": 2,
       "version_minor": 0
      },
      "text/plain": [
       "HBox(children=(HTML(value='Validating'), FloatProgress(value=1.0, bar_style='info', layout=Layout(flex='2'), m…"
      ]
     },
     "metadata": {},
     "output_type": "display_data"
    },
    {
     "data": {
      "application/vnd.jupyter.widget-view+json": {
       "model_id": "",
       "version_major": 2,
       "version_minor": 0
      },
      "text/plain": [
       "HBox(children=(HTML(value='Validating'), FloatProgress(value=1.0, bar_style='info', layout=Layout(flex='2'), m…"
      ]
     },
     "metadata": {},
     "output_type": "display_data"
    },
    {
     "data": {
      "application/vnd.jupyter.widget-view+json": {
       "model_id": "",
       "version_major": 2,
       "version_minor": 0
      },
      "text/plain": [
       "HBox(children=(HTML(value='Validating'), FloatProgress(value=1.0, bar_style='info', layout=Layout(flex='2'), m…"
      ]
     },
     "metadata": {},
     "output_type": "display_data"
    },
    {
     "data": {
      "application/vnd.jupyter.widget-view+json": {
       "model_id": "",
       "version_major": 2,
       "version_minor": 0
      },
      "text/plain": [
       "HBox(children=(HTML(value='Validating'), FloatProgress(value=1.0, bar_style='info', layout=Layout(flex='2'), m…"
      ]
     },
     "metadata": {},
     "output_type": "display_data"
    },
    {
     "data": {
      "application/vnd.jupyter.widget-view+json": {
       "model_id": "",
       "version_major": 2,
       "version_minor": 0
      },
      "text/plain": [
       "HBox(children=(HTML(value='Validating'), FloatProgress(value=1.0, bar_style='info', layout=Layout(flex='2'), m…"
      ]
     },
     "metadata": {},
     "output_type": "display_data"
    },
    {
     "data": {
      "application/vnd.jupyter.widget-view+json": {
       "model_id": "",
       "version_major": 2,
       "version_minor": 0
      },
      "text/plain": [
       "HBox(children=(HTML(value='Validating'), FloatProgress(value=1.0, bar_style='info', layout=Layout(flex='2'), m…"
      ]
     },
     "metadata": {},
     "output_type": "display_data"
    },
    {
     "data": {
      "application/vnd.jupyter.widget-view+json": {
       "model_id": "",
       "version_major": 2,
       "version_minor": 0
      },
      "text/plain": [
       "HBox(children=(HTML(value='Validating'), FloatProgress(value=1.0, bar_style='info', layout=Layout(flex='2'), m…"
      ]
     },
     "metadata": {},
     "output_type": "display_data"
    },
    {
     "data": {
      "application/vnd.jupyter.widget-view+json": {
       "model_id": "",
       "version_major": 2,
       "version_minor": 0
      },
      "text/plain": [
       "HBox(children=(HTML(value='Validating'), FloatProgress(value=1.0, bar_style='info', layout=Layout(flex='2'), m…"
      ]
     },
     "metadata": {},
     "output_type": "display_data"
    },
    {
     "data": {
      "application/vnd.jupyter.widget-view+json": {
       "model_id": "",
       "version_major": 2,
       "version_minor": 0
      },
      "text/plain": [
       "HBox(children=(HTML(value='Validating'), FloatProgress(value=1.0, bar_style='info', layout=Layout(flex='2'), m…"
      ]
     },
     "metadata": {},
     "output_type": "display_data"
    },
    {
     "data": {
      "application/vnd.jupyter.widget-view+json": {
       "model_id": "",
       "version_major": 2,
       "version_minor": 0
      },
      "text/plain": [
       "HBox(children=(HTML(value='Validating'), FloatProgress(value=1.0, bar_style='info', layout=Layout(flex='2'), m…"
      ]
     },
     "metadata": {},
     "output_type": "display_data"
    },
    {
     "data": {
      "application/vnd.jupyter.widget-view+json": {
       "model_id": "",
       "version_major": 2,
       "version_minor": 0
      },
      "text/plain": [
       "HBox(children=(HTML(value='Validating'), FloatProgress(value=1.0, bar_style='info', layout=Layout(flex='2'), m…"
      ]
     },
     "metadata": {},
     "output_type": "display_data"
    },
    {
     "data": {
      "application/vnd.jupyter.widget-view+json": {
       "model_id": "",
       "version_major": 2,
       "version_minor": 0
      },
      "text/plain": [
       "HBox(children=(HTML(value='Validating'), FloatProgress(value=1.0, bar_style='info', layout=Layout(flex='2'), m…"
      ]
     },
     "metadata": {},
     "output_type": "display_data"
    },
    {
     "data": {
      "application/vnd.jupyter.widget-view+json": {
       "model_id": "",
       "version_major": 2,
       "version_minor": 0
      },
      "text/plain": [
       "HBox(children=(HTML(value='Validating'), FloatProgress(value=1.0, bar_style='info', layout=Layout(flex='2'), m…"
      ]
     },
     "metadata": {},
     "output_type": "display_data"
    },
    {
     "data": {
      "application/vnd.jupyter.widget-view+json": {
       "model_id": "",
       "version_major": 2,
       "version_minor": 0
      },
      "text/plain": [
       "HBox(children=(HTML(value='Validating'), FloatProgress(value=1.0, bar_style='info', layout=Layout(flex='2'), m…"
      ]
     },
     "metadata": {},
     "output_type": "display_data"
    },
    {
     "data": {
      "application/vnd.jupyter.widget-view+json": {
       "model_id": "",
       "version_major": 2,
       "version_minor": 0
      },
      "text/plain": [
       "HBox(children=(HTML(value='Validating'), FloatProgress(value=1.0, bar_style='info', layout=Layout(flex='2'), m…"
      ]
     },
     "metadata": {},
     "output_type": "display_data"
    },
    {
     "data": {
      "application/vnd.jupyter.widget-view+json": {
       "model_id": "",
       "version_major": 2,
       "version_minor": 0
      },
      "text/plain": [
       "HBox(children=(HTML(value='Validating'), FloatProgress(value=1.0, bar_style='info', layout=Layout(flex='2'), m…"
      ]
     },
     "metadata": {},
     "output_type": "display_data"
    },
    {
     "data": {
      "application/vnd.jupyter.widget-view+json": {
       "model_id": "",
       "version_major": 2,
       "version_minor": 0
      },
      "text/plain": [
       "HBox(children=(HTML(value='Validating'), FloatProgress(value=1.0, bar_style='info', layout=Layout(flex='2'), m…"
      ]
     },
     "metadata": {},
     "output_type": "display_data"
    },
    {
     "data": {
      "application/vnd.jupyter.widget-view+json": {
       "model_id": "",
       "version_major": 2,
       "version_minor": 0
      },
      "text/plain": [
       "HBox(children=(HTML(value='Validating'), FloatProgress(value=1.0, bar_style='info', layout=Layout(flex='2'), m…"
      ]
     },
     "metadata": {},
     "output_type": "display_data"
    },
    {
     "data": {
      "application/vnd.jupyter.widget-view+json": {
       "model_id": "",
       "version_major": 2,
       "version_minor": 0
      },
      "text/plain": [
       "HBox(children=(HTML(value='Validating'), FloatProgress(value=1.0, bar_style='info', layout=Layout(flex='2'), m…"
      ]
     },
     "metadata": {},
     "output_type": "display_data"
    },
    {
     "data": {
      "application/vnd.jupyter.widget-view+json": {
       "model_id": "",
       "version_major": 2,
       "version_minor": 0
      },
      "text/plain": [
       "HBox(children=(HTML(value='Validating'), FloatProgress(value=1.0, bar_style='info', layout=Layout(flex='2'), m…"
      ]
     },
     "metadata": {},
     "output_type": "display_data"
    },
    {
     "data": {
      "application/vnd.jupyter.widget-view+json": {
       "model_id": "",
       "version_major": 2,
       "version_minor": 0
      },
      "text/plain": [
       "HBox(children=(HTML(value='Validating'), FloatProgress(value=1.0, bar_style='info', layout=Layout(flex='2'), m…"
      ]
     },
     "metadata": {},
     "output_type": "display_data"
    },
    {
     "data": {
      "application/vnd.jupyter.widget-view+json": {
       "model_id": "",
       "version_major": 2,
       "version_minor": 0
      },
      "text/plain": [
       "HBox(children=(HTML(value='Validating'), FloatProgress(value=1.0, bar_style='info', layout=Layout(flex='2'), m…"
      ]
     },
     "metadata": {},
     "output_type": "display_data"
    },
    {
     "data": {
      "application/vnd.jupyter.widget-view+json": {
       "model_id": "",
       "version_major": 2,
       "version_minor": 0
      },
      "text/plain": [
       "HBox(children=(HTML(value='Validating'), FloatProgress(value=1.0, bar_style='info', layout=Layout(flex='2'), m…"
      ]
     },
     "metadata": {},
     "output_type": "display_data"
    },
    {
     "data": {
      "application/vnd.jupyter.widget-view+json": {
       "model_id": "",
       "version_major": 2,
       "version_minor": 0
      },
      "text/plain": [
       "HBox(children=(HTML(value='Validating'), FloatProgress(value=1.0, bar_style='info', layout=Layout(flex='2'), m…"
      ]
     },
     "metadata": {},
     "output_type": "display_data"
    },
    {
     "data": {
      "application/vnd.jupyter.widget-view+json": {
       "model_id": "",
       "version_major": 2,
       "version_minor": 0
      },
      "text/plain": [
       "HBox(children=(HTML(value='Validating'), FloatProgress(value=1.0, bar_style='info', layout=Layout(flex='2'), m…"
      ]
     },
     "metadata": {},
     "output_type": "display_data"
    },
    {
     "data": {
      "application/vnd.jupyter.widget-view+json": {
       "model_id": "",
       "version_major": 2,
       "version_minor": 0
      },
      "text/plain": [
       "HBox(children=(HTML(value='Validating'), FloatProgress(value=1.0, bar_style='info', layout=Layout(flex='2'), m…"
      ]
     },
     "metadata": {},
     "output_type": "display_data"
    },
    {
     "data": {
      "application/vnd.jupyter.widget-view+json": {
       "model_id": "",
       "version_major": 2,
       "version_minor": 0
      },
      "text/plain": [
       "HBox(children=(HTML(value='Validating'), FloatProgress(value=1.0, bar_style='info', layout=Layout(flex='2'), m…"
      ]
     },
     "metadata": {},
     "output_type": "display_data"
    },
    {
     "data": {
      "application/vnd.jupyter.widget-view+json": {
       "model_id": "",
       "version_major": 2,
       "version_minor": 0
      },
      "text/plain": [
       "HBox(children=(HTML(value='Validating'), FloatProgress(value=1.0, bar_style='info', layout=Layout(flex='2'), m…"
      ]
     },
     "metadata": {},
     "output_type": "display_data"
    },
    {
     "data": {
      "application/vnd.jupyter.widget-view+json": {
       "model_id": "",
       "version_major": 2,
       "version_minor": 0
      },
      "text/plain": [
       "HBox(children=(HTML(value='Validating'), FloatProgress(value=1.0, bar_style='info', layout=Layout(flex='2'), m…"
      ]
     },
     "metadata": {},
     "output_type": "display_data"
    },
    {
     "data": {
      "application/vnd.jupyter.widget-view+json": {
       "model_id": "",
       "version_major": 2,
       "version_minor": 0
      },
      "text/plain": [
       "HBox(children=(HTML(value='Validating'), FloatProgress(value=1.0, bar_style='info', layout=Layout(flex='2'), m…"
      ]
     },
     "metadata": {},
     "output_type": "display_data"
    },
    {
     "data": {
      "application/vnd.jupyter.widget-view+json": {
       "model_id": "",
       "version_major": 2,
       "version_minor": 0
      },
      "text/plain": [
       "HBox(children=(HTML(value='Validating'), FloatProgress(value=1.0, bar_style='info', layout=Layout(flex='2'), m…"
      ]
     },
     "metadata": {},
     "output_type": "display_data"
    },
    {
     "data": {
      "application/vnd.jupyter.widget-view+json": {
       "model_id": "",
       "version_major": 2,
       "version_minor": 0
      },
      "text/plain": [
       "HBox(children=(HTML(value='Validating'), FloatProgress(value=1.0, bar_style='info', layout=Layout(flex='2'), m…"
      ]
     },
     "metadata": {},
     "output_type": "display_data"
    },
    {
     "data": {
      "application/vnd.jupyter.widget-view+json": {
       "model_id": "",
       "version_major": 2,
       "version_minor": 0
      },
      "text/plain": [
       "HBox(children=(HTML(value='Validating'), FloatProgress(value=1.0, bar_style='info', layout=Layout(flex='2'), m…"
      ]
     },
     "metadata": {},
     "output_type": "display_data"
    },
    {
     "data": {
      "application/vnd.jupyter.widget-view+json": {
       "model_id": "",
       "version_major": 2,
       "version_minor": 0
      },
      "text/plain": [
       "HBox(children=(HTML(value='Validating'), FloatProgress(value=1.0, bar_style='info', layout=Layout(flex='2'), m…"
      ]
     },
     "metadata": {},
     "output_type": "display_data"
    },
    {
     "data": {
      "application/vnd.jupyter.widget-view+json": {
       "model_id": "",
       "version_major": 2,
       "version_minor": 0
      },
      "text/plain": [
       "HBox(children=(HTML(value='Validating'), FloatProgress(value=1.0, bar_style='info', layout=Layout(flex='2'), m…"
      ]
     },
     "metadata": {},
     "output_type": "display_data"
    },
    {
     "data": {
      "application/vnd.jupyter.widget-view+json": {
       "model_id": "",
       "version_major": 2,
       "version_minor": 0
      },
      "text/plain": [
       "HBox(children=(HTML(value='Validating'), FloatProgress(value=1.0, bar_style='info', layout=Layout(flex='2'), m…"
      ]
     },
     "metadata": {},
     "output_type": "display_data"
    },
    {
     "data": {
      "application/vnd.jupyter.widget-view+json": {
       "model_id": "",
       "version_major": 2,
       "version_minor": 0
      },
      "text/plain": [
       "HBox(children=(HTML(value='Validating'), FloatProgress(value=1.0, bar_style='info', layout=Layout(flex='2'), m…"
      ]
     },
     "metadata": {},
     "output_type": "display_data"
    },
    {
     "data": {
      "application/vnd.jupyter.widget-view+json": {
       "model_id": "",
       "version_major": 2,
       "version_minor": 0
      },
      "text/plain": [
       "HBox(children=(HTML(value='Validating'), FloatProgress(value=1.0, bar_style='info', layout=Layout(flex='2'), m…"
      ]
     },
     "metadata": {},
     "output_type": "display_data"
    },
    {
     "data": {
      "application/vnd.jupyter.widget-view+json": {
       "model_id": "",
       "version_major": 2,
       "version_minor": 0
      },
      "text/plain": [
       "HBox(children=(HTML(value='Validating'), FloatProgress(value=1.0, bar_style='info', layout=Layout(flex='2'), m…"
      ]
     },
     "metadata": {},
     "output_type": "display_data"
    },
    {
     "data": {
      "application/vnd.jupyter.widget-view+json": {
       "model_id": "",
       "version_major": 2,
       "version_minor": 0
      },
      "text/plain": [
       "HBox(children=(HTML(value='Validating'), FloatProgress(value=1.0, bar_style='info', layout=Layout(flex='2'), m…"
      ]
     },
     "metadata": {},
     "output_type": "display_data"
    },
    {
     "data": {
      "application/vnd.jupyter.widget-view+json": {
       "model_id": "",
       "version_major": 2,
       "version_minor": 0
      },
      "text/plain": [
       "HBox(children=(HTML(value='Validating'), FloatProgress(value=1.0, bar_style='info', layout=Layout(flex='2'), m…"
      ]
     },
     "metadata": {},
     "output_type": "display_data"
    },
    {
     "data": {
      "application/vnd.jupyter.widget-view+json": {
       "model_id": "",
       "version_major": 2,
       "version_minor": 0
      },
      "text/plain": [
       "HBox(children=(HTML(value='Validating'), FloatProgress(value=1.0, bar_style='info', layout=Layout(flex='2'), m…"
      ]
     },
     "metadata": {},
     "output_type": "display_data"
    },
    {
     "data": {
      "application/vnd.jupyter.widget-view+json": {
       "model_id": "",
       "version_major": 2,
       "version_minor": 0
      },
      "text/plain": [
       "HBox(children=(HTML(value='Validating'), FloatProgress(value=1.0, bar_style='info', layout=Layout(flex='2'), m…"
      ]
     },
     "metadata": {},
     "output_type": "display_data"
    },
    {
     "data": {
      "application/vnd.jupyter.widget-view+json": {
       "model_id": "",
       "version_major": 2,
       "version_minor": 0
      },
      "text/plain": [
       "HBox(children=(HTML(value='Validating'), FloatProgress(value=1.0, bar_style='info', layout=Layout(flex='2'), m…"
      ]
     },
     "metadata": {},
     "output_type": "display_data"
    },
    {
     "data": {
      "application/vnd.jupyter.widget-view+json": {
       "model_id": "",
       "version_major": 2,
       "version_minor": 0
      },
      "text/plain": [
       "HBox(children=(HTML(value='Validating'), FloatProgress(value=1.0, bar_style='info', layout=Layout(flex='2'), m…"
      ]
     },
     "metadata": {},
     "output_type": "display_data"
    },
    {
     "data": {
      "application/vnd.jupyter.widget-view+json": {
       "model_id": "",
       "version_major": 2,
       "version_minor": 0
      },
      "text/plain": [
       "HBox(children=(HTML(value='Validating'), FloatProgress(value=1.0, bar_style='info', layout=Layout(flex='2'), m…"
      ]
     },
     "metadata": {},
     "output_type": "display_data"
    },
    {
     "data": {
      "application/vnd.jupyter.widget-view+json": {
       "model_id": "",
       "version_major": 2,
       "version_minor": 0
      },
      "text/plain": [
       "HBox(children=(HTML(value='Validating'), FloatProgress(value=1.0, bar_style='info', layout=Layout(flex='2'), m…"
      ]
     },
     "metadata": {},
     "output_type": "display_data"
    },
    {
     "data": {
      "application/vnd.jupyter.widget-view+json": {
       "model_id": "",
       "version_major": 2,
       "version_minor": 0
      },
      "text/plain": [
       "HBox(children=(HTML(value='Validating'), FloatProgress(value=1.0, bar_style='info', layout=Layout(flex='2'), m…"
      ]
     },
     "metadata": {},
     "output_type": "display_data"
    },
    {
     "data": {
      "application/vnd.jupyter.widget-view+json": {
       "model_id": "",
       "version_major": 2,
       "version_minor": 0
      },
      "text/plain": [
       "HBox(children=(HTML(value='Validating'), FloatProgress(value=1.0, bar_style='info', layout=Layout(flex='2'), m…"
      ]
     },
     "metadata": {},
     "output_type": "display_data"
    },
    {
     "data": {
      "application/vnd.jupyter.widget-view+json": {
       "model_id": "",
       "version_major": 2,
       "version_minor": 0
      },
      "text/plain": [
       "HBox(children=(HTML(value='Validating'), FloatProgress(value=1.0, bar_style='info', layout=Layout(flex='2'), m…"
      ]
     },
     "metadata": {},
     "output_type": "display_data"
    },
    {
     "data": {
      "application/vnd.jupyter.widget-view+json": {
       "model_id": "",
       "version_major": 2,
       "version_minor": 0
      },
      "text/plain": [
       "HBox(children=(HTML(value='Validating'), FloatProgress(value=1.0, bar_style='info', layout=Layout(flex='2'), m…"
      ]
     },
     "metadata": {},
     "output_type": "display_data"
    },
    {
     "data": {
      "application/vnd.jupyter.widget-view+json": {
       "model_id": "",
       "version_major": 2,
       "version_minor": 0
      },
      "text/plain": [
       "HBox(children=(HTML(value='Validating'), FloatProgress(value=1.0, bar_style='info', layout=Layout(flex='2'), m…"
      ]
     },
     "metadata": {},
     "output_type": "display_data"
    },
    {
     "data": {
      "application/vnd.jupyter.widget-view+json": {
       "model_id": "",
       "version_major": 2,
       "version_minor": 0
      },
      "text/plain": [
       "HBox(children=(HTML(value='Validating'), FloatProgress(value=1.0, bar_style='info', layout=Layout(flex='2'), m…"
      ]
     },
     "metadata": {},
     "output_type": "display_data"
    },
    {
     "name": "stdout",
     "output_type": "stream",
     "text": [
      "\n"
     ]
    }
   ],
   "source": [
    "trainer.fit(\n",
    "    tft,\n",
    "    train_dataloader=train_dataloader,\n",
    "    val_dataloaders=val_dataloader,\n",
    ")\n",
    "\n",
    "# make a prediction on entire validation set\n",
    "#preds, index = tft.predict(val_dataloader, return_index=True, fast_dev_run=True)"
   ]
  },
  {
   "cell_type": "code",
   "execution_count": 78,
   "metadata": {},
   "outputs": [],
   "source": [
    "best_model_path = trainer.checkpoint_callback.best_model_path\n",
    "best_tft = TemporalFusionTransformer.load_from_checkpoint(best_model_path)"
   ]
  },
  {
   "cell_type": "code",
   "execution_count": 79,
   "metadata": {},
   "outputs": [],
   "source": [
    "actuals = torch.cat([y for x,(y,weight) in iter(val_dataloader)])\n",
    "predictions = best_tft.predict(val_dataloader)\n",
    "act = actuals.numpy()\n",
    "pred = predictions.numpy()\n"
   ]
  },
  {
   "cell_type": "code",
   "execution_count": 82,
   "metadata": {},
   "outputs": [
    {
     "data": {
      "text/plain": [
       "0.3794829845428467"
      ]
     },
     "execution_count": 82,
     "metadata": {},
     "output_type": "execute_result"
    }
   ],
   "source": [
    "(actuals - predictions).abs().mean().item()"
   ]
  },
  {
   "cell_type": "code",
   "execution_count": 84,
   "metadata": {},
   "outputs": [
    {
     "data": {
      "text/plain": [
       "5.746308341622353"
      ]
     },
     "execution_count": 84,
     "metadata": {},
     "output_type": "execute_result"
    }
   ],
   "source": [
    "def mean_absolute_percentage_error(y_true, y_pred): \n",
    "    y_true, y_pred = np.array(y_true), np.array(y_pred)\n",
    "    return np.mean(np.abs((y_true - y_pred) / y_true)) * 100\n",
    "mean_absolute_percentage_error(act,pred)"
   ]
  },
  {
   "cell_type": "markdown",
   "metadata": {},
   "source": [
    "### Predicting for Next 12 Weeks"
   ]
  },
  {
   "cell_type": "code",
   "execution_count": 89,
   "metadata": {},
   "outputs": [],
   "source": [
    "start = df_1[df_1.year == 2021].weekday.max()"
   ]
  },
  {
   "cell_type": "code",
   "execution_count": 103,
   "metadata": {},
   "outputs": [],
   "source": [
    "df_future = pd.DataFrame()\n",
    "df_future['SCRUB_ITEM'] = df_1.SCRUB_ITEM.unique()\n",
    "Weeks = list(np.arange(start+1, start+13))\n",
    "df_future['weekday'] = [Weeks for _ in range(len(df_future))]\n",
    "df_future = df_future.explode('weekday').reset_index(drop = True)\n",
    "df_future['year'] = 2021\n"
   ]
  },
  {
   "cell_type": "code",
   "execution_count": 104,
   "metadata": {},
   "outputs": [],
   "source": [
    "df_fourier = df_1.groupby('weekday')\n",
    "df_fourier = df_fourier[['sin365','cos365','sin365_2','cos365_2']].mean().reset_index()\n",
    "df_future =  pd.merge(df_future,df_fourier, on = ['weekday'])\n"
   ]
  },
  {
   "cell_type": "code",
   "execution_count": 105,
   "metadata": {},
   "outputs": [],
   "source": [
    "df_future.weekday = df_future.weekday.astype(int)"
   ]
  },
  {
   "cell_type": "code",
   "execution_count": 106,
   "metadata": {},
   "outputs": [],
   "source": [
    "df_future[\"time_idx\"] = (df_future[\"year\"]-2018)*52 + df_future[\"weekday\"]\n",
    "df_future = pd.merge(df_future,data_min, on = 'SCRUB_ITEM')\n",
    "df_future['time_idx'] =df_future['time_idx'] - df_future['time_idx_min']\n",
    "df_future['trend'] = 0"
   ]
  },
  {
   "cell_type": "code",
   "execution_count": 107,
   "metadata": {},
   "outputs": [],
   "source": [
    "encoder_data = data[df_future.columns]\n",
    "encoder_data = encoder_data[(encoder_data.year == 2021) & (encoder_data.weekday >= start-8)]\n",
    "df_predict = pd.concat([encoder_data,df_future])\n",
    "df_predict.reset_index(inplace= True)"
   ]
  },
  {
   "cell_type": "code",
   "execution_count": 110,
   "metadata": {},
   "outputs": [
    {
     "name": "stderr",
     "output_type": "stream",
     "text": [
      "/Users/parul/opt/anaconda3/lib/python3.8/site-packages/pytorch_forecasting/data/timeseries.py:1238: UserWarning: Min encoder length and/or min_prediction_idx and/or min prediction length and/or lags are too large for 30 series/groups which therefore are not present in the dataset index. This means no predictions can be made for those series. First 10 removed groups: [{'__group_id__SCRUB_ITEM': '10'}, {'__group_id__SCRUB_ITEM': '12'}, {'__group_id__SCRUB_ITEM': '14'}, {'__group_id__SCRUB_ITEM': '18'}, {'__group_id__SCRUB_ITEM': '22'}, {'__group_id__SCRUB_ITEM': '26'}, {'__group_id__SCRUB_ITEM': '31'}, {'__group_id__SCRUB_ITEM': '32'}, {'__group_id__SCRUB_ITEM': '34'}, {'__group_id__SCRUB_ITEM': '37'}]\n",
      "  warnings.warn(\n"
     ]
    }
   ],
   "source": [
    "\n",
    "df_predict['SCRUB_ITEM'] = df_predict['SCRUB_ITEM'].astype(str)\n",
    "forecast = TimeSeriesDataSet.from_dataset(training, df_predict,\n",
    "                             min_prediction_length = 13, max_prediction_length = 13,max_encoder_length = 7,\n",
    "                             min_encoder_length = 7)\n"
   ]
  },
  {
   "cell_type": "code",
   "execution_count": 111,
   "metadata": {},
   "outputs": [],
   "source": [
    "new_raw_predictions, new_x = best_tft.predict(forecast,mode = 'prediction', return_x = True)"
   ]
  },
  {
   "cell_type": "code",
   "execution_count": 112,
   "metadata": {},
   "outputs": [],
   "source": [
    "df_idx = forecast.x_to_index(new_x)\n",
    "df_idx['grp'] = df_idx.index\n",
    "new_raw_predictions.numpy().shape\n",
    "list_col = [x for x in range(0,13)]\n",
    "raw_pred = new_raw_predictions.numpy()\n",
    "df_pred_mean = pd.DataFrame(raw_pred)\n",
    "df_pred_mean['grp'] = df_pred_mean.index\n",
    "df_pred_mean1 = pd.merge(df_pred_mean, df_idx, on = ['grp'])\n",
    "df_pred_mean2 = pd.melt(df_pred_mean1, id_vars=['SCRUB_ITEM','grp','time_idx'],value_vars = list_col)\n",
    "x_ind = new_x['decoder_time_idx'].numpy()\n",
    "df_ind = pd.DataFrame(x_ind)\n",
    "df_ind['grp'] = df_ind.index\n",
    "df_ind1 = pd.melt(df_ind, id_vars=['grp'],value_vars= list_col)\n",
    "df_res = pd.merge(df_pred_mean2,df_ind1, on = ['grp','variable'])\n",
    "df_res.columns = ['SCRUB_ITEM','grp','time_idx_start','Lag','Predicted','time_idx']"
   ]
  },
  {
   "cell_type": "code",
   "execution_count": 115,
   "metadata": {},
   "outputs": [],
   "source": [
    "results_df = pd.merge(df_predict,df_res, on = ['SCRUB_ITEM','time_idx'])\n",
    "results_df.Predicted = results_df.Predicted.abs()"
   ]
  },
  {
   "cell_type": "code",
   "execution_count": 117,
   "metadata": {},
   "outputs": [
    {
     "data": {
      "text/html": [
       "<div>\n",
       "<style scoped>\n",
       "    .dataframe tbody tr th:only-of-type {\n",
       "        vertical-align: middle;\n",
       "    }\n",
       "\n",
       "    .dataframe tbody tr th {\n",
       "        vertical-align: top;\n",
       "    }\n",
       "\n",
       "    .dataframe thead th {\n",
       "        text-align: right;\n",
       "    }\n",
       "</style>\n",
       "<table border=\"1\" class=\"dataframe\">\n",
       "  <thead>\n",
       "    <tr style=\"text-align: right;\">\n",
       "      <th></th>\n",
       "      <th>SCRUB_ITEM</th>\n",
       "      <th>weekday</th>\n",
       "      <th>year</th>\n",
       "      <th>sin365</th>\n",
       "      <th>cos365</th>\n",
       "      <th>sin365_2</th>\n",
       "      <th>cos365_2</th>\n",
       "      <th>Predicted</th>\n",
       "    </tr>\n",
       "  </thead>\n",
       "  <tbody>\n",
       "    <tr>\n",
       "      <th>0</th>\n",
       "      <td>2</td>\n",
       "      <td>30</td>\n",
       "      <td>2021</td>\n",
       "      <td>0.568065</td>\n",
       "      <td>0.822984</td>\n",
       "      <td>0.935016</td>\n",
       "      <td>0.354605</td>\n",
       "      <td>132.220352</td>\n",
       "    </tr>\n",
       "    <tr>\n",
       "      <th>1</th>\n",
       "      <td>2</td>\n",
       "      <td>31</td>\n",
       "      <td>2021</td>\n",
       "      <td>0.992709</td>\n",
       "      <td>0.120537</td>\n",
       "      <td>0.239316</td>\n",
       "      <td>-0.970942</td>\n",
       "      <td>132.500076</td>\n",
       "    </tr>\n",
       "    <tr>\n",
       "      <th>2</th>\n",
       "      <td>40</td>\n",
       "      <td>30</td>\n",
       "      <td>2021</td>\n",
       "      <td>0.568065</td>\n",
       "      <td>0.822984</td>\n",
       "      <td>0.935016</td>\n",
       "      <td>0.354605</td>\n",
       "      <td>80.831223</td>\n",
       "    </tr>\n",
       "    <tr>\n",
       "      <th>3</th>\n",
       "      <td>40</td>\n",
       "      <td>31</td>\n",
       "      <td>2021</td>\n",
       "      <td>0.992709</td>\n",
       "      <td>0.120537</td>\n",
       "      <td>0.239316</td>\n",
       "      <td>-0.970942</td>\n",
       "      <td>81.270668</td>\n",
       "    </tr>\n",
       "    <tr>\n",
       "      <th>4</th>\n",
       "      <td>40</td>\n",
       "      <td>31</td>\n",
       "      <td>2021</td>\n",
       "      <td>0.992709</td>\n",
       "      <td>0.120537</td>\n",
       "      <td>0.239316</td>\n",
       "      <td>-0.970942</td>\n",
       "      <td>80.744148</td>\n",
       "    </tr>\n",
       "  </tbody>\n",
       "</table>\n",
       "</div>"
      ],
      "text/plain": [
       "  SCRUB_ITEM  weekday  year    sin365    cos365  sin365_2  cos365_2  \\\n",
       "0          2       30  2021  0.568065  0.822984  0.935016  0.354605   \n",
       "1          2       31  2021  0.992709  0.120537  0.239316 -0.970942   \n",
       "2         40       30  2021  0.568065  0.822984  0.935016  0.354605   \n",
       "3         40       31  2021  0.992709  0.120537  0.239316 -0.970942   \n",
       "4         40       31  2021  0.992709  0.120537  0.239316 -0.970942   \n",
       "\n",
       "    Predicted  \n",
       "0  132.220352  \n",
       "1  132.500076  \n",
       "2   80.831223  \n",
       "3   81.270668  \n",
       "4   80.744148  "
      ]
     },
     "execution_count": 117,
     "metadata": {},
     "output_type": "execute_result"
    }
   ],
   "source": [
    "ans_df = results_df[['SCRUB_ITEM','weekday','year','sin365', 'cos365',\n",
    "       'sin365_2', 'cos365_2','Predicted']]\n",
    "ans_df.head()"
   ]
  },
  {
   "cell_type": "markdown",
   "metadata": {},
   "source": [
    "### Adding Seasonality to Forecasted Demand"
   ]
  },
  {
   "cell_type": "code",
   "execution_count": 118,
   "metadata": {},
   "outputs": [
    {
     "data": {
      "text/html": [
       "<div>\n",
       "<style scoped>\n",
       "    .dataframe tbody tr th:only-of-type {\n",
       "        vertical-align: middle;\n",
       "    }\n",
       "\n",
       "    .dataframe tbody tr th {\n",
       "        vertical-align: top;\n",
       "    }\n",
       "\n",
       "    .dataframe thead th {\n",
       "        text-align: right;\n",
       "    }\n",
       "</style>\n",
       "<table border=\"1\" class=\"dataframe\">\n",
       "  <thead>\n",
       "    <tr style=\"text-align: right;\">\n",
       "      <th></th>\n",
       "      <th>SCRUB_ITEM</th>\n",
       "      <th>weekday</th>\n",
       "      <th>year</th>\n",
       "      <th>sin365</th>\n",
       "      <th>cos365</th>\n",
       "      <th>sin365_2</th>\n",
       "      <th>cos365_2</th>\n",
       "      <th>Predicted</th>\n",
       "      <th>seasonality</th>\n",
       "      <th>Forecast_Sales</th>\n",
       "    </tr>\n",
       "  </thead>\n",
       "  <tbody>\n",
       "    <tr>\n",
       "      <th>0</th>\n",
       "      <td>2</td>\n",
       "      <td>30</td>\n",
       "      <td>2021</td>\n",
       "      <td>0.568065</td>\n",
       "      <td>0.822984</td>\n",
       "      <td>0.935016</td>\n",
       "      <td>0.354605</td>\n",
       "      <td>132.220352</td>\n",
       "      <td>75.820069</td>\n",
       "      <td>208.040421</td>\n",
       "    </tr>\n",
       "    <tr>\n",
       "      <th>1</th>\n",
       "      <td>2</td>\n",
       "      <td>31</td>\n",
       "      <td>2021</td>\n",
       "      <td>0.992709</td>\n",
       "      <td>0.120537</td>\n",
       "      <td>0.239316</td>\n",
       "      <td>-0.970942</td>\n",
       "      <td>132.500076</td>\n",
       "      <td>22.920559</td>\n",
       "      <td>155.420636</td>\n",
       "    </tr>\n",
       "    <tr>\n",
       "      <th>2</th>\n",
       "      <td>40</td>\n",
       "      <td>30</td>\n",
       "      <td>2021</td>\n",
       "      <td>0.568065</td>\n",
       "      <td>0.822984</td>\n",
       "      <td>0.935016</td>\n",
       "      <td>0.354605</td>\n",
       "      <td>80.831223</td>\n",
       "      <td>-34.188698</td>\n",
       "      <td>46.642525</td>\n",
       "    </tr>\n",
       "    <tr>\n",
       "      <th>3</th>\n",
       "      <td>40</td>\n",
       "      <td>31</td>\n",
       "      <td>2021</td>\n",
       "      <td>0.992709</td>\n",
       "      <td>0.120537</td>\n",
       "      <td>0.239316</td>\n",
       "      <td>-0.970942</td>\n",
       "      <td>81.270668</td>\n",
       "      <td>-12.853000</td>\n",
       "      <td>68.417668</td>\n",
       "    </tr>\n",
       "    <tr>\n",
       "      <th>4</th>\n",
       "      <td>40</td>\n",
       "      <td>31</td>\n",
       "      <td>2021</td>\n",
       "      <td>0.992709</td>\n",
       "      <td>0.120537</td>\n",
       "      <td>0.239316</td>\n",
       "      <td>-0.970942</td>\n",
       "      <td>80.744148</td>\n",
       "      <td>-12.853000</td>\n",
       "      <td>67.891148</td>\n",
       "    </tr>\n",
       "  </tbody>\n",
       "</table>\n",
       "</div>"
      ],
      "text/plain": [
       "  SCRUB_ITEM  weekday  year    sin365    cos365  sin365_2  cos365_2  \\\n",
       "0          2       30  2021  0.568065  0.822984  0.935016  0.354605   \n",
       "1          2       31  2021  0.992709  0.120537  0.239316 -0.970942   \n",
       "2         40       30  2021  0.568065  0.822984  0.935016  0.354605   \n",
       "3         40       31  2021  0.992709  0.120537  0.239316 -0.970942   \n",
       "4         40       31  2021  0.992709  0.120537  0.239316 -0.970942   \n",
       "\n",
       "    Predicted  seasonality  Forecast_Sales  \n",
       "0  132.220352    75.820069      208.040421  \n",
       "1  132.500076    22.920559      155.420636  \n",
       "2   80.831223   -34.188698       46.642525  \n",
       "3   81.270668   -12.853000       68.417668  \n",
       "4   80.744148   -12.853000       67.891148  "
      ]
     },
     "execution_count": 118,
     "metadata": {},
     "output_type": "execute_result"
    }
   ],
   "source": [
    "seasona_trend = data.groupby(['SCRUB_ITEM','weekday']).seasonality.mean().reset_index()\n",
    "ans_df_final = pd.merge(ans_df,seasona_trend, on =['SCRUB_ITEM','weekday'])\n",
    "ans_df_final['Forecast_Sales'] = ans_df_final['Predicted'] + ans_df_final['seasonality']\n",
    "ans_df_final.head()"
   ]
  },
  {
   "cell_type": "code",
   "execution_count": 127,
   "metadata": {},
   "outputs": [
    {
     "data": {
      "text/html": [
       "<div>\n",
       "<style scoped>\n",
       "    .dataframe tbody tr th:only-of-type {\n",
       "        vertical-align: middle;\n",
       "    }\n",
       "\n",
       "    .dataframe tbody tr th {\n",
       "        vertical-align: top;\n",
       "    }\n",
       "\n",
       "    .dataframe thead th {\n",
       "        text-align: right;\n",
       "    }\n",
       "</style>\n",
       "<table border=\"1\" class=\"dataframe\">\n",
       "  <thead>\n",
       "    <tr style=\"text-align: right;\">\n",
       "      <th></th>\n",
       "      <th>SCRUB_ITEM</th>\n",
       "      <th>weekday</th>\n",
       "      <th>year</th>\n",
       "      <th>UNIT_QTY</th>\n",
       "      <th>sin365</th>\n",
       "      <th>cos365</th>\n",
       "    </tr>\n",
       "  </thead>\n",
       "  <tbody>\n",
       "    <tr>\n",
       "      <th>0</th>\n",
       "      <td>2</td>\n",
       "      <td>30</td>\n",
       "      <td>2021</td>\n",
       "      <td>208.040421</td>\n",
       "      <td>0.568065</td>\n",
       "      <td>0.822984</td>\n",
       "    </tr>\n",
       "    <tr>\n",
       "      <th>1</th>\n",
       "      <td>2</td>\n",
       "      <td>31</td>\n",
       "      <td>2021</td>\n",
       "      <td>155.420636</td>\n",
       "      <td>0.992709</td>\n",
       "      <td>0.120537</td>\n",
       "    </tr>\n",
       "    <tr>\n",
       "      <th>2</th>\n",
       "      <td>40</td>\n",
       "      <td>30</td>\n",
       "      <td>2021</td>\n",
       "      <td>46.642525</td>\n",
       "      <td>0.568065</td>\n",
       "      <td>0.822984</td>\n",
       "    </tr>\n",
       "    <tr>\n",
       "      <th>3</th>\n",
       "      <td>40</td>\n",
       "      <td>31</td>\n",
       "      <td>2021</td>\n",
       "      <td>68.417668</td>\n",
       "      <td>0.992709</td>\n",
       "      <td>0.120537</td>\n",
       "    </tr>\n",
       "    <tr>\n",
       "      <th>4</th>\n",
       "      <td>40</td>\n",
       "      <td>31</td>\n",
       "      <td>2021</td>\n",
       "      <td>67.891148</td>\n",
       "      <td>0.992709</td>\n",
       "      <td>0.120537</td>\n",
       "    </tr>\n",
       "  </tbody>\n",
       "</table>\n",
       "</div>"
      ],
      "text/plain": [
       "  SCRUB_ITEM  weekday  year    UNIT_QTY    sin365    cos365\n",
       "0          2       30  2021  208.040421  0.568065  0.822984\n",
       "1          2       31  2021  155.420636  0.992709  0.120537\n",
       "2         40       30  2021   46.642525  0.568065  0.822984\n",
       "3         40       31  2021   68.417668  0.992709  0.120537\n",
       "4         40       31  2021   67.891148  0.992709  0.120537"
      ]
     },
     "execution_count": 127,
     "metadata": {},
     "output_type": "execute_result"
    }
   ],
   "source": [
    "ans_x = ans_df_final[['SCRUB_ITEM','weekday','year','Forecast_Sales','sin365','cos365']]\n",
    "ans_x.columns = ['SCRUB_ITEM','weekday','year','UNIT_QTY','sin365','cos365']\n",
    "ans_x.head()"
   ]
  },
  {
   "cell_type": "code",
   "execution_count": 126,
   "metadata": {},
   "outputs": [
    {
     "data": {
      "text/html": [
       "<div>\n",
       "<style scoped>\n",
       "    .dataframe tbody tr th:only-of-type {\n",
       "        vertical-align: middle;\n",
       "    }\n",
       "\n",
       "    .dataframe tbody tr th {\n",
       "        vertical-align: top;\n",
       "    }\n",
       "\n",
       "    .dataframe thead th {\n",
       "        text-align: right;\n",
       "    }\n",
       "</style>\n",
       "<table border=\"1\" class=\"dataframe\">\n",
       "  <thead>\n",
       "    <tr style=\"text-align: right;\">\n",
       "      <th></th>\n",
       "      <th>SCRUB_ITEM</th>\n",
       "      <th>weekday</th>\n",
       "      <th>year</th>\n",
       "      <th>UNIT_QTY</th>\n",
       "      <th>sin365</th>\n",
       "      <th>cos365</th>\n",
       "    </tr>\n",
       "  </thead>\n",
       "  <tbody>\n",
       "    <tr>\n",
       "      <th>0</th>\n",
       "      <td>2</td>\n",
       "      <td>1</td>\n",
       "      <td>2018</td>\n",
       "      <td>3.0</td>\n",
       "      <td>7.485107e-01</td>\n",
       "      <td>6.631227e-01</td>\n",
       "    </tr>\n",
       "    <tr>\n",
       "      <th>1</th>\n",
       "      <td>2</td>\n",
       "      <td>52</td>\n",
       "      <td>2018</td>\n",
       "      <td>13.0</td>\n",
       "      <td>-1.714506e-15</td>\n",
       "      <td>1.000000e+00</td>\n",
       "    </tr>\n",
       "    <tr>\n",
       "      <th>2</th>\n",
       "      <td>2</td>\n",
       "      <td>1</td>\n",
       "      <td>2019</td>\n",
       "      <td>21.0</td>\n",
       "      <td>6.631227e-01</td>\n",
       "      <td>7.485107e-01</td>\n",
       "    </tr>\n",
       "    <tr>\n",
       "      <th>3</th>\n",
       "      <td>2</td>\n",
       "      <td>2</td>\n",
       "      <td>2019</td>\n",
       "      <td>11.0</td>\n",
       "      <td>1.000000e+00</td>\n",
       "      <td>-1.608123e-16</td>\n",
       "    </tr>\n",
       "    <tr>\n",
       "      <th>4</th>\n",
       "      <td>2</td>\n",
       "      <td>3</td>\n",
       "      <td>2019</td>\n",
       "      <td>32.0</td>\n",
       "      <td>6.631227e-01</td>\n",
       "      <td>-7.485107e-01</td>\n",
       "    </tr>\n",
       "  </tbody>\n",
       "</table>\n",
       "</div>"
      ],
      "text/plain": [
       "  SCRUB_ITEM  weekday  year  UNIT_QTY        sin365        cos365\n",
       "0          2        1  2018       3.0  7.485107e-01  6.631227e-01\n",
       "1          2       52  2018      13.0 -1.714506e-15  1.000000e+00\n",
       "2          2        1  2019      21.0  6.631227e-01  7.485107e-01\n",
       "3          2        2  2019      11.0  1.000000e+00 -1.608123e-16\n",
       "4          2        3  2019      32.0  6.631227e-01 -7.485107e-01"
      ]
     },
     "execution_count": 126,
     "metadata": {},
     "output_type": "execute_result"
    }
   ],
   "source": [
    "data_ans.head()\n"
   ]
  },
  {
   "cell_type": "code",
   "execution_count": 128,
   "metadata": {},
   "outputs": [
    {
     "data": {
      "text/html": [
       "<div>\n",
       "<style scoped>\n",
       "    .dataframe tbody tr th:only-of-type {\n",
       "        vertical-align: middle;\n",
       "    }\n",
       "\n",
       "    .dataframe tbody tr th {\n",
       "        vertical-align: top;\n",
       "    }\n",
       "\n",
       "    .dataframe thead th {\n",
       "        text-align: right;\n",
       "    }\n",
       "</style>\n",
       "<table border=\"1\" class=\"dataframe\">\n",
       "  <thead>\n",
       "    <tr style=\"text-align: right;\">\n",
       "      <th></th>\n",
       "      <th>SCRUB_ITEM</th>\n",
       "      <th>weekday</th>\n",
       "      <th>year</th>\n",
       "      <th>UNIT_QTY</th>\n",
       "      <th>sin365</th>\n",
       "      <th>cos365</th>\n",
       "    </tr>\n",
       "  </thead>\n",
       "  <tbody>\n",
       "    <tr>\n",
       "      <th>0</th>\n",
       "      <td>2</td>\n",
       "      <td>1</td>\n",
       "      <td>2018</td>\n",
       "      <td>3.0</td>\n",
       "      <td>7.485107e-01</td>\n",
       "      <td>6.631227e-01</td>\n",
       "    </tr>\n",
       "    <tr>\n",
       "      <th>1</th>\n",
       "      <td>2</td>\n",
       "      <td>52</td>\n",
       "      <td>2018</td>\n",
       "      <td>13.0</td>\n",
       "      <td>-1.714506e-15</td>\n",
       "      <td>1.000000e+00</td>\n",
       "    </tr>\n",
       "    <tr>\n",
       "      <th>2</th>\n",
       "      <td>2</td>\n",
       "      <td>1</td>\n",
       "      <td>2019</td>\n",
       "      <td>21.0</td>\n",
       "      <td>6.631227e-01</td>\n",
       "      <td>7.485107e-01</td>\n",
       "    </tr>\n",
       "    <tr>\n",
       "      <th>3</th>\n",
       "      <td>2</td>\n",
       "      <td>2</td>\n",
       "      <td>2019</td>\n",
       "      <td>11.0</td>\n",
       "      <td>1.000000e+00</td>\n",
       "      <td>-1.608123e-16</td>\n",
       "    </tr>\n",
       "    <tr>\n",
       "      <th>4</th>\n",
       "      <td>2</td>\n",
       "      <td>3</td>\n",
       "      <td>2019</td>\n",
       "      <td>32.0</td>\n",
       "      <td>6.631227e-01</td>\n",
       "      <td>-7.485107e-01</td>\n",
       "    </tr>\n",
       "  </tbody>\n",
       "</table>\n",
       "</div>"
      ],
      "text/plain": [
       "  SCRUB_ITEM  weekday  year  UNIT_QTY        sin365        cos365\n",
       "0          2        1  2018       3.0  7.485107e-01  6.631227e-01\n",
       "1          2       52  2018      13.0 -1.714506e-15  1.000000e+00\n",
       "2          2        1  2019      21.0  6.631227e-01  7.485107e-01\n",
       "3          2        2  2019      11.0  1.000000e+00 -1.608123e-16\n",
       "4          2        3  2019      32.0  6.631227e-01 -7.485107e-01"
      ]
     },
     "execution_count": 128,
     "metadata": {},
     "output_type": "execute_result"
    }
   ],
   "source": [
    "data_ans = data[['SCRUB_ITEM','weekday','year','UNIT_QTY','sin365','cos365']]\n",
    "ans_x = pd.concat([data_ans,ans_x])\n",
    "ans_x.head()"
   ]
  },
  {
   "cell_type": "code",
   "execution_count": 129,
   "metadata": {},
   "outputs": [],
   "source": [
    "ans_x.to_csv('TSC_sales_forecast.csv',index = False)"
   ]
  },
  {
   "cell_type": "code",
   "execution_count": null,
   "metadata": {},
   "outputs": [],
   "source": []
  }
 ],
 "metadata": {
  "kernelspec": {
   "display_name": "Python 3",
   "language": "python",
   "name": "python3"
  },
  "language_info": {
   "codemirror_mode": {
    "name": "ipython",
    "version": 3
   },
   "file_extension": ".py",
   "mimetype": "text/x-python",
   "name": "python",
   "nbconvert_exporter": "python",
   "pygments_lexer": "ipython3",
   "version": "3.8.5"
  }
 },
 "nbformat": 4,
 "nbformat_minor": 4
}
